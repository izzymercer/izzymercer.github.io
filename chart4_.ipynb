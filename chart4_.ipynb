{
  "nbformat": 4,
  "nbformat_minor": 0,
  "metadata": {
    "colab": {
      "provenance": [],
      "authorship_tag": "ABX9TyPlzVyxZm6UlGK/gvrZFaZR",
      "include_colab_link": true
    },
    "kernelspec": {
      "name": "python3",
      "display_name": "Python 3"
    },
    "language_info": {
      "name": "python"
    }
  },
  "cells": [
    {
      "cell_type": "markdown",
      "metadata": {
        "id": "view-in-github",
        "colab_type": "text"
      },
      "source": [
        "<a href=\"https://colab.research.google.com/github/izzymercer/izzymercer.github.io/blob/main/chart4_.ipynb\" target=\"_parent\"><img src=\"https://colab.research.google.com/assets/colab-badge.svg\" alt=\"Open In Colab\"/></a>"
      ]
    },
    {
      "cell_type": "code",
      "execution_count": null,
      "metadata": {
        "colab": {
          "base_uri": "https://localhost:8080/"
        },
        "id": "JSqyTm3DT8PF",
        "outputId": "6b9fae4f-6f0c-43b4-dc53-6215244e8ff6"
      },
      "outputs": [
        {
          "output_type": "stream",
          "name": "stdout",
          "text": [
            "Looking in indexes: https://pypi.org/simple, https://us-python.pkg.dev/colab-wheels/public/simple/\n",
            "Collecting world_bank_data\n",
            "  Downloading world_bank_data-0.1.3.tar.gz (12 kB)\n",
            "  Preparing metadata (setup.py) ... \u001b[?25l\u001b[?25hdone\n",
            "Requirement already satisfied: pandas in /usr/local/lib/python3.8/dist-packages (from world_bank_data) (1.3.5)\n",
            "Requirement already satisfied: requests in /usr/local/lib/python3.8/dist-packages (from world_bank_data) (2.25.1)\n",
            "Requirement already satisfied: cachetools in /usr/local/lib/python3.8/dist-packages (from world_bank_data) (5.2.0)\n",
            "Requirement already satisfied: pytz>=2017.3 in /usr/local/lib/python3.8/dist-packages (from pandas->world_bank_data) (2022.7)\n",
            "Requirement already satisfied: python-dateutil>=2.7.3 in /usr/local/lib/python3.8/dist-packages (from pandas->world_bank_data) (2.8.2)\n",
            "Requirement already satisfied: numpy>=1.17.3 in /usr/local/lib/python3.8/dist-packages (from pandas->world_bank_data) (1.21.6)\n",
            "Requirement already satisfied: idna<3,>=2.5 in /usr/local/lib/python3.8/dist-packages (from requests->world_bank_data) (2.10)\n",
            "Requirement already satisfied: chardet<5,>=3.0.2 in /usr/local/lib/python3.8/dist-packages (from requests->world_bank_data) (4.0.0)\n",
            "Requirement already satisfied: urllib3<1.27,>=1.21.1 in /usr/local/lib/python3.8/dist-packages (from requests->world_bank_data) (1.24.3)\n",
            "Requirement already satisfied: certifi>=2017.4.17 in /usr/local/lib/python3.8/dist-packages (from requests->world_bank_data) (2022.12.7)\n",
            "Requirement already satisfied: six>=1.5 in /usr/local/lib/python3.8/dist-packages (from python-dateutil>=2.7.3->pandas->world_bank_data) (1.15.0)\n",
            "Building wheels for collected packages: world_bank_data\n",
            "  Building wheel for world_bank_data (setup.py) ... \u001b[?25l\u001b[?25hdone\n",
            "  Created wheel for world_bank_data: filename=world_bank_data-0.1.3-py3-none-any.whl size=11110 sha256=5c8103edbef4edea9acd2632f1096714af42a74030526717998b79480ef771ac\n",
            "  Stored in directory: /root/.cache/pip/wheels/fe/17/0c/9ef630351acc5856f4a1814d96bc082eccf1cbbb779fcd1a98\n",
            "Successfully built world_bank_data\n",
            "Installing collected packages: world_bank_data\n",
            "Successfully installed world_bank_data-0.1.3\n"
          ]
        }
      ],
      "source": [
        "pip install world_bank_data --upgrade"
      ]
    },
    {
      "cell_type": "code",
      "source": [
        "import pandas as pd\n",
        "import world_bank_data as wb\n",
        "import requests\n",
        "import json"
      ],
      "metadata": {
        "id": "-vwIgM81T-wv"
      },
      "execution_count": null,
      "outputs": []
    },
    {
      "cell_type": "code",
      "source": [
        "url_base = \"http://api.worldbank.org/v2/countries/{}/indicators/{}?date={}&format=json\""
      ],
      "metadata": {
        "id": "2mqGoOQUUCZ_"
      },
      "execution_count": null,
      "outputs": []
    },
    {
      "cell_type": "code",
      "source": [
        "indicator_code = \"SH.DYN.MORT\""
      ],
      "metadata": {
        "id": "V4i0UYQOUDZL"
      },
      "execution_count": null,
      "outputs": []
    },
    {
      "cell_type": "code",
      "source": [
        "start_date = \"2010\"  # Start date for the data series\n",
        "end_date = \"2020\"  # End date for the data serie"
      ],
      "metadata": {
        "id": "IhDwh63AUGj2"
      },
      "execution_count": null,
      "outputs": []
    },
    {
      "cell_type": "code",
      "source": [
        "url_base = \"http://api.worldbank.org/v2/countries/{}/indicators/{}?date={}&format=json\""
      ],
      "metadata": {
        "id": "Jkn_pS_nafrS"
      },
      "execution_count": null,
      "outputs": []
    },
    {
      "cell_type": "code",
      "source": [
        "indicator_code = \"SH.DYN.MORT\"\n",
        "start_date = \"2010\"  # Start date for the data series\n",
        "end_date = \"2020\"  # End date for the data serie\n",
        "country_codes = [\"ZMB\", \"ZAR\", \"SLE\", \"AGO\", \"MWI\", \"ZWE\"]\n",
        "\n",
        "# Initialize an empty list to store the data for all countries\n",
        "all_data = []\n",
        "\n",
        "# Iterate through the list of countries\n",
        "for country in country_codes:\n",
        "  print(\"--------Iteration Start--------\")\n",
        "  print(country)\n",
        "\n",
        "  url = url_base.format(country, indicator_code, start_date+\":\"+end_date)\n",
        "  print(url)\n",
        "\n",
        "  response = requests.get(url)\n",
        "  print(response)\n",
        "\n",
        "  data = response.json()\n",
        "  print(data)\n",
        "\n",
        "  all_data.extend(data[1])\n",
        "\n",
        "  print(\"--------Iteration End--------\")\n",
        "\n",
        "\n",
        "with open(\"data2.json\", \"w\") as file:\n",
        "  json.dump(all_data, file)"
      ],
      "metadata": {
        "colab": {
          "base_uri": "https://localhost:8080/"
        },
        "id": "I-BQCtg9bQAI",
        "outputId": "051df63d-038a-41b5-b823-75f26dacac3d"
      },
      "execution_count": null,
      "outputs": [
        {
          "output_type": "stream",
          "name": "stdout",
          "text": [
            "--------Iteration Start--------\n",
            "ZMB\n",
            "http://api.worldbank.org/v2/countries/ZMB/indicators/SH.DYN.MORT?date=2010:2020&format=json\n",
            "<Response [200]>\n",
            "[{'page': 1, 'pages': 1, 'per_page': 50, 'total': 11, 'sourceid': '2', 'sourcename': 'World Development Indicators', 'lastupdated': '2022-12-22'}, [{'indicator': {'id': 'SH.DYN.MORT', 'value': 'Mortality rate, under-5 (per 1,000 live births)'}, 'country': {'id': 'ZM', 'value': 'Zambia'}, 'countryiso3code': 'ZMB', 'date': '2020', 'value': 61.4, 'unit': '', 'obs_status': '', 'decimal': 0}, {'indicator': {'id': 'SH.DYN.MORT', 'value': 'Mortality rate, under-5 (per 1,000 live births)'}, 'country': {'id': 'ZM', 'value': 'Zambia'}, 'countryiso3code': 'ZMB', 'date': '2019', 'value': 64.1, 'unit': '', 'obs_status': '', 'decimal': 0}, {'indicator': {'id': 'SH.DYN.MORT', 'value': 'Mortality rate, under-5 (per 1,000 live births)'}, 'country': {'id': 'ZM', 'value': 'Zambia'}, 'countryiso3code': 'ZMB', 'date': '2018', 'value': 65.4, 'unit': '', 'obs_status': '', 'decimal': 0}, {'indicator': {'id': 'SH.DYN.MORT', 'value': 'Mortality rate, under-5 (per 1,000 live births)'}, 'country': {'id': 'ZM', 'value': 'Zambia'}, 'countryiso3code': 'ZMB', 'date': '2017', 'value': 64.6, 'unit': '', 'obs_status': '', 'decimal': 0}, {'indicator': {'id': 'SH.DYN.MORT', 'value': 'Mortality rate, under-5 (per 1,000 live births)'}, 'country': {'id': 'ZM', 'value': 'Zambia'}, 'countryiso3code': 'ZMB', 'date': '2016', 'value': 65.3, 'unit': '', 'obs_status': '', 'decimal': 0}, {'indicator': {'id': 'SH.DYN.MORT', 'value': 'Mortality rate, under-5 (per 1,000 live births)'}, 'country': {'id': 'ZM', 'value': 'Zambia'}, 'countryiso3code': 'ZMB', 'date': '2015', 'value': 67.7, 'unit': '', 'obs_status': '', 'decimal': 0}, {'indicator': {'id': 'SH.DYN.MORT', 'value': 'Mortality rate, under-5 (per 1,000 live births)'}, 'country': {'id': 'ZM', 'value': 'Zambia'}, 'countryiso3code': 'ZMB', 'date': '2014', 'value': 68.3, 'unit': '', 'obs_status': '', 'decimal': 0}, {'indicator': {'id': 'SH.DYN.MORT', 'value': 'Mortality rate, under-5 (per 1,000 live births)'}, 'country': {'id': 'ZM', 'value': 'Zambia'}, 'countryiso3code': 'ZMB', 'date': '2013', 'value': 71.1, 'unit': '', 'obs_status': '', 'decimal': 0}, {'indicator': {'id': 'SH.DYN.MORT', 'value': 'Mortality rate, under-5 (per 1,000 live births)'}, 'country': {'id': 'ZM', 'value': 'Zambia'}, 'countryiso3code': 'ZMB', 'date': '2012', 'value': 74.7, 'unit': '', 'obs_status': '', 'decimal': 0}, {'indicator': {'id': 'SH.DYN.MORT', 'value': 'Mortality rate, under-5 (per 1,000 live births)'}, 'country': {'id': 'ZM', 'value': 'Zambia'}, 'countryiso3code': 'ZMB', 'date': '2011', 'value': 76.8, 'unit': '', 'obs_status': '', 'decimal': 0}, {'indicator': {'id': 'SH.DYN.MORT', 'value': 'Mortality rate, under-5 (per 1,000 live births)'}, 'country': {'id': 'ZM', 'value': 'Zambia'}, 'countryiso3code': 'ZMB', 'date': '2010', 'value': 79, 'unit': '', 'obs_status': '', 'decimal': 0}]]\n",
            "--------Iteration End--------\n",
            "--------Iteration Start--------\n",
            "ZAR\n",
            "http://api.worldbank.org/v2/countries/ZAR/indicators/SH.DYN.MORT?date=2010:2020&format=json\n",
            "<Response [200]>\n",
            "[{'page': 1, 'pages': 1, 'per_page': 50, 'total': 11, 'sourceid': '2', 'sourcename': 'World Development Indicators', 'lastupdated': '2022-12-22'}, [{'indicator': {'id': 'SH.DYN.MORT', 'value': 'Mortality rate, under-5 (per 1,000 live births)'}, 'country': {'id': 'CD', 'value': 'Congo, Dem. Rep.'}, 'countryiso3code': 'COD', 'date': '2020', 'value': 81.2, 'unit': '', 'obs_status': '', 'decimal': 0}, {'indicator': {'id': 'SH.DYN.MORT', 'value': 'Mortality rate, under-5 (per 1,000 live births)'}, 'country': {'id': 'CD', 'value': 'Congo, Dem. Rep.'}, 'countryiso3code': 'COD', 'date': '2019', 'value': 83.8, 'unit': '', 'obs_status': '', 'decimal': 0}, {'indicator': {'id': 'SH.DYN.MORT', 'value': 'Mortality rate, under-5 (per 1,000 live births)'}, 'country': {'id': 'CD', 'value': 'Congo, Dem. Rep.'}, 'countryiso3code': 'COD', 'date': '2018', 'value': 86.6, 'unit': '', 'obs_status': '', 'decimal': 0}, {'indicator': {'id': 'SH.DYN.MORT', 'value': 'Mortality rate, under-5 (per 1,000 live births)'}, 'country': {'id': 'CD', 'value': 'Congo, Dem. Rep.'}, 'countryiso3code': 'COD', 'date': '2017', 'value': 89.6, 'unit': '', 'obs_status': '', 'decimal': 0}, {'indicator': {'id': 'SH.DYN.MORT', 'value': 'Mortality rate, under-5 (per 1,000 live births)'}, 'country': {'id': 'CD', 'value': 'Congo, Dem. Rep.'}, 'countryiso3code': 'COD', 'date': '2016', 'value': 92.8, 'unit': '', 'obs_status': '', 'decimal': 0}, {'indicator': {'id': 'SH.DYN.MORT', 'value': 'Mortality rate, under-5 (per 1,000 live births)'}, 'country': {'id': 'CD', 'value': 'Congo, Dem. Rep.'}, 'countryiso3code': 'COD', 'date': '2015', 'value': 95.9, 'unit': '', 'obs_status': '', 'decimal': 0}, {'indicator': {'id': 'SH.DYN.MORT', 'value': 'Mortality rate, under-5 (per 1,000 live births)'}, 'country': {'id': 'CD', 'value': 'Congo, Dem. Rep.'}, 'countryiso3code': 'COD', 'date': '2014', 'value': 99.2, 'unit': '', 'obs_status': '', 'decimal': 0}, {'indicator': {'id': 'SH.DYN.MORT', 'value': 'Mortality rate, under-5 (per 1,000 live births)'}, 'country': {'id': 'CD', 'value': 'Congo, Dem. Rep.'}, 'countryiso3code': 'COD', 'date': '2013', 'value': 102.5, 'unit': '', 'obs_status': '', 'decimal': 0}, {'indicator': {'id': 'SH.DYN.MORT', 'value': 'Mortality rate, under-5 (per 1,000 live births)'}, 'country': {'id': 'CD', 'value': 'Congo, Dem. Rep.'}, 'countryiso3code': 'COD', 'date': '2012', 'value': 106.1, 'unit': '', 'obs_status': '', 'decimal': 0}, {'indicator': {'id': 'SH.DYN.MORT', 'value': 'Mortality rate, under-5 (per 1,000 live births)'}, 'country': {'id': 'CD', 'value': 'Congo, Dem. Rep.'}, 'countryiso3code': 'COD', 'date': '2011', 'value': 109.9, 'unit': '', 'obs_status': '', 'decimal': 0}, {'indicator': {'id': 'SH.DYN.MORT', 'value': 'Mortality rate, under-5 (per 1,000 live births)'}, 'country': {'id': 'CD', 'value': 'Congo, Dem. Rep.'}, 'countryiso3code': 'COD', 'date': '2010', 'value': 113.8, 'unit': '', 'obs_status': '', 'decimal': 0}]]\n",
            "--------Iteration End--------\n",
            "--------Iteration Start--------\n",
            "SLE\n",
            "http://api.worldbank.org/v2/countries/SLE/indicators/SH.DYN.MORT?date=2010:2020&format=json\n",
            "<Response [200]>\n",
            "[{'page': 1, 'pages': 1, 'per_page': 50, 'total': 11, 'sourceid': '2', 'sourcename': 'World Development Indicators', 'lastupdated': '2022-12-22'}, [{'indicator': {'id': 'SH.DYN.MORT', 'value': 'Mortality rate, under-5 (per 1,000 live births)'}, 'country': {'id': 'SL', 'value': 'Sierra Leone'}, 'countryiso3code': 'SLE', 'date': '2020', 'value': 107.8, 'unit': '', 'obs_status': '', 'decimal': 0}, {'indicator': {'id': 'SH.DYN.MORT', 'value': 'Mortality rate, under-5 (per 1,000 live births)'}, 'country': {'id': 'SL', 'value': 'Sierra Leone'}, 'countryiso3code': 'SLE', 'date': '2019', 'value': 111.9, 'unit': '', 'obs_status': '', 'decimal': 0}, {'indicator': {'id': 'SH.DYN.MORT', 'value': 'Mortality rate, under-5 (per 1,000 live births)'}, 'country': {'id': 'SL', 'value': 'Sierra Leone'}, 'countryiso3code': 'SLE', 'date': '2018', 'value': 116.2, 'unit': '', 'obs_status': '', 'decimal': 0}, {'indicator': {'id': 'SH.DYN.MORT', 'value': 'Mortality rate, under-5 (per 1,000 live births)'}, 'country': {'id': 'SL', 'value': 'Sierra Leone'}, 'countryiso3code': 'SLE', 'date': '2017', 'value': 120.7, 'unit': '', 'obs_status': '', 'decimal': 0}, {'indicator': {'id': 'SH.DYN.MORT', 'value': 'Mortality rate, under-5 (per 1,000 live births)'}, 'country': {'id': 'SL', 'value': 'Sierra Leone'}, 'countryiso3code': 'SLE', 'date': '2016', 'value': 125.4, 'unit': '', 'obs_status': '', 'decimal': 0}, {'indicator': {'id': 'SH.DYN.MORT', 'value': 'Mortality rate, under-5 (per 1,000 live births)'}, 'country': {'id': 'SL', 'value': 'Sierra Leone'}, 'countryiso3code': 'SLE', 'date': '2015', 'value': 140.2, 'unit': '', 'obs_status': '', 'decimal': 0}, {'indicator': {'id': 'SH.DYN.MORT', 'value': 'Mortality rate, under-5 (per 1,000 live births)'}, 'country': {'id': 'SL', 'value': 'Sierra Leone'}, 'countryiso3code': 'SLE', 'date': '2014', 'value': 139.2, 'unit': '', 'obs_status': '', 'decimal': 0}, {'indicator': {'id': 'SH.DYN.MORT', 'value': 'Mortality rate, under-5 (per 1,000 live births)'}, 'country': {'id': 'SL', 'value': 'Sierra Leone'}, 'countryiso3code': 'SLE', 'date': '2013', 'value': 141.2, 'unit': '', 'obs_status': '', 'decimal': 0}, {'indicator': {'id': 'SH.DYN.MORT', 'value': 'Mortality rate, under-5 (per 1,000 live births)'}, 'country': {'id': 'SL', 'value': 'Sierra Leone'}, 'countryiso3code': 'SLE', 'date': '2012', 'value': 147.3, 'unit': '', 'obs_status': '', 'decimal': 0}, {'indicator': {'id': 'SH.DYN.MORT', 'value': 'Mortality rate, under-5 (per 1,000 live births)'}, 'country': {'id': 'SL', 'value': 'Sierra Leone'}, 'countryiso3code': 'SLE', 'date': '2011', 'value': 153.8, 'unit': '', 'obs_status': '', 'decimal': 0}, {'indicator': {'id': 'SH.DYN.MORT', 'value': 'Mortality rate, under-5 (per 1,000 live births)'}, 'country': {'id': 'SL', 'value': 'Sierra Leone'}, 'countryiso3code': 'SLE', 'date': '2010', 'value': 160.6, 'unit': '', 'obs_status': '', 'decimal': 0}]]\n",
            "--------Iteration End--------\n",
            "--------Iteration Start--------\n",
            "AGO\n",
            "http://api.worldbank.org/v2/countries/AGO/indicators/SH.DYN.MORT?date=2010:2020&format=json\n",
            "<Response [200]>\n",
            "[{'page': 1, 'pages': 1, 'per_page': 50, 'total': 11, 'sourceid': '2', 'sourcename': 'World Development Indicators', 'lastupdated': '2022-12-22'}, [{'indicator': {'id': 'SH.DYN.MORT', 'value': 'Mortality rate, under-5 (per 1,000 live births)'}, 'country': {'id': 'AO', 'value': 'Angola'}, 'countryiso3code': 'AGO', 'date': '2020', 'value': 71.5, 'unit': '', 'obs_status': '', 'decimal': 0}, {'indicator': {'id': 'SH.DYN.MORT', 'value': 'Mortality rate, under-5 (per 1,000 live births)'}, 'country': {'id': 'AO', 'value': 'Angola'}, 'countryiso3code': 'AGO', 'date': '2019', 'value': 74.2, 'unit': '', 'obs_status': '', 'decimal': 0}, {'indicator': {'id': 'SH.DYN.MORT', 'value': 'Mortality rate, under-5 (per 1,000 live births)'}, 'country': {'id': 'AO', 'value': 'Angola'}, 'countryiso3code': 'AGO', 'date': '2018', 'value': 77.3, 'unit': '', 'obs_status': '', 'decimal': 0}, {'indicator': {'id': 'SH.DYN.MORT', 'value': 'Mortality rate, under-5 (per 1,000 live births)'}, 'country': {'id': 'AO', 'value': 'Angola'}, 'countryiso3code': 'AGO', 'date': '2017', 'value': 80.6, 'unit': '', 'obs_status': '', 'decimal': 0}, {'indicator': {'id': 'SH.DYN.MORT', 'value': 'Mortality rate, under-5 (per 1,000 live births)'}, 'country': {'id': 'AO', 'value': 'Angola'}, 'countryiso3code': 'AGO', 'date': '2016', 'value': 84.1, 'unit': '', 'obs_status': '', 'decimal': 0}, {'indicator': {'id': 'SH.DYN.MORT', 'value': 'Mortality rate, under-5 (per 1,000 live births)'}, 'country': {'id': 'AO', 'value': 'Angola'}, 'countryiso3code': 'AGO', 'date': '2015', 'value': 88.1, 'unit': '', 'obs_status': '', 'decimal': 0}, {'indicator': {'id': 'SH.DYN.MORT', 'value': 'Mortality rate, under-5 (per 1,000 live births)'}, 'country': {'id': 'AO', 'value': 'Angola'}, 'countryiso3code': 'AGO', 'date': '2014', 'value': 92.9, 'unit': '', 'obs_status': '', 'decimal': 0}, {'indicator': {'id': 'SH.DYN.MORT', 'value': 'Mortality rate, under-5 (per 1,000 live births)'}, 'country': {'id': 'AO', 'value': 'Angola'}, 'countryiso3code': 'AGO', 'date': '2013', 'value': 98.5, 'unit': '', 'obs_status': '', 'decimal': 0}, {'indicator': {'id': 'SH.DYN.MORT', 'value': 'Mortality rate, under-5 (per 1,000 live births)'}, 'country': {'id': 'AO', 'value': 'Angola'}, 'countryiso3code': 'AGO', 'date': '2012', 'value': 105.1, 'unit': '', 'obs_status': '', 'decimal': 0}, {'indicator': {'id': 'SH.DYN.MORT', 'value': 'Mortality rate, under-5 (per 1,000 live births)'}, 'country': {'id': 'AO', 'value': 'Angola'}, 'countryiso3code': 'AGO', 'date': '2011', 'value': 112.5, 'unit': '', 'obs_status': '', 'decimal': 0}, {'indicator': {'id': 'SH.DYN.MORT', 'value': 'Mortality rate, under-5 (per 1,000 live births)'}, 'country': {'id': 'AO', 'value': 'Angola'}, 'countryiso3code': 'AGO', 'date': '2010', 'value': 120.4, 'unit': '', 'obs_status': '', 'decimal': 0}]]\n",
            "--------Iteration End--------\n",
            "--------Iteration Start--------\n",
            "MWI\n",
            "http://api.worldbank.org/v2/countries/MWI/indicators/SH.DYN.MORT?date=2010:2020&format=json\n",
            "<Response [200]>\n",
            "[{'page': 1, 'pages': 1, 'per_page': 50, 'total': 11, 'sourceid': '2', 'sourcename': 'World Development Indicators', 'lastupdated': '2022-12-22'}, [{'indicator': {'id': 'SH.DYN.MORT', 'value': 'Mortality rate, under-5 (per 1,000 live births)'}, 'country': {'id': 'MW', 'value': 'Malawi'}, 'countryiso3code': 'MWI', 'date': '2020', 'value': 38.6, 'unit': '', 'obs_status': '', 'decimal': 0}, {'indicator': {'id': 'SH.DYN.MORT', 'value': 'Mortality rate, under-5 (per 1,000 live births)'}, 'country': {'id': 'MW', 'value': 'Malawi'}, 'countryiso3code': 'MWI', 'date': '2019', 'value': 40.6, 'unit': '', 'obs_status': '', 'decimal': 0}, {'indicator': {'id': 'SH.DYN.MORT', 'value': 'Mortality rate, under-5 (per 1,000 live births)'}, 'country': {'id': 'MW', 'value': 'Malawi'}, 'countryiso3code': 'MWI', 'date': '2018', 'value': 43.1, 'unit': '', 'obs_status': '', 'decimal': 0}, {'indicator': {'id': 'SH.DYN.MORT', 'value': 'Mortality rate, under-5 (per 1,000 live births)'}, 'country': {'id': 'MW', 'value': 'Malawi'}, 'countryiso3code': 'MWI', 'date': '2017', 'value': 46.2, 'unit': '', 'obs_status': '', 'decimal': 0}, {'indicator': {'id': 'SH.DYN.MORT', 'value': 'Mortality rate, under-5 (per 1,000 live births)'}, 'country': {'id': 'MW', 'value': 'Malawi'}, 'countryiso3code': 'MWI', 'date': '2016', 'value': 49.5, 'unit': '', 'obs_status': '', 'decimal': 0}, {'indicator': {'id': 'SH.DYN.MORT', 'value': 'Mortality rate, under-5 (per 1,000 live births)'}, 'country': {'id': 'MW', 'value': 'Malawi'}, 'countryiso3code': 'MWI', 'date': '2015', 'value': 53.3, 'unit': '', 'obs_status': '', 'decimal': 0}, {'indicator': {'id': 'SH.DYN.MORT', 'value': 'Mortality rate, under-5 (per 1,000 live births)'}, 'country': {'id': 'MW', 'value': 'Malawi'}, 'countryiso3code': 'MWI', 'date': '2014', 'value': 57.6, 'unit': '', 'obs_status': '', 'decimal': 0}, {'indicator': {'id': 'SH.DYN.MORT', 'value': 'Mortality rate, under-5 (per 1,000 live births)'}, 'country': {'id': 'MW', 'value': 'Malawi'}, 'countryiso3code': 'MWI', 'date': '2013', 'value': 63.4, 'unit': '', 'obs_status': '', 'decimal': 0}, {'indicator': {'id': 'SH.DYN.MORT', 'value': 'Mortality rate, under-5 (per 1,000 live births)'}, 'country': {'id': 'MW', 'value': 'Malawi'}, 'countryiso3code': 'MWI', 'date': '2012', 'value': 70.7, 'unit': '', 'obs_status': '', 'decimal': 0}, {'indicator': {'id': 'SH.DYN.MORT', 'value': 'Mortality rate, under-5 (per 1,000 live births)'}, 'country': {'id': 'MW', 'value': 'Malawi'}, 'countryiso3code': 'MWI', 'date': '2011', 'value': 77.6, 'unit': '', 'obs_status': '', 'decimal': 0}, {'indicator': {'id': 'SH.DYN.MORT', 'value': 'Mortality rate, under-5 (per 1,000 live births)'}, 'country': {'id': 'MW', 'value': 'Malawi'}, 'countryiso3code': 'MWI', 'date': '2010', 'value': 84.2, 'unit': '', 'obs_status': '', 'decimal': 0}]]\n",
            "--------Iteration End--------\n",
            "--------Iteration Start--------\n",
            "ZWE\n",
            "http://api.worldbank.org/v2/countries/ZWE/indicators/SH.DYN.MORT?date=2010:2020&format=json\n",
            "<Response [200]>\n",
            "[{'page': 1, 'pages': 1, 'per_page': 50, 'total': 11, 'sourceid': '2', 'sourcename': 'World Development Indicators', 'lastupdated': '2022-12-22'}, [{'indicator': {'id': 'SH.DYN.MORT', 'value': 'Mortality rate, under-5 (per 1,000 live births)'}, 'country': {'id': 'ZW', 'value': 'Zimbabwe'}, 'countryiso3code': 'ZWE', 'date': '2020', 'value': 53.9, 'unit': '', 'obs_status': '', 'decimal': 0}, {'indicator': {'id': 'SH.DYN.MORT', 'value': 'Mortality rate, under-5 (per 1,000 live births)'}, 'country': {'id': 'ZW', 'value': 'Zimbabwe'}, 'countryiso3code': 'ZWE', 'date': '2019', 'value': 54.2, 'unit': '', 'obs_status': '', 'decimal': 0}, {'indicator': {'id': 'SH.DYN.MORT', 'value': 'Mortality rate, under-5 (per 1,000 live births)'}, 'country': {'id': 'ZW', 'value': 'Zimbabwe'}, 'countryiso3code': 'ZWE', 'date': '2018', 'value': 54.8, 'unit': '', 'obs_status': '', 'decimal': 0}, {'indicator': {'id': 'SH.DYN.MORT', 'value': 'Mortality rate, under-5 (per 1,000 live births)'}, 'country': {'id': 'ZW', 'value': 'Zimbabwe'}, 'countryiso3code': 'ZWE', 'date': '2017', 'value': 57, 'unit': '', 'obs_status': '', 'decimal': 0}, {'indicator': {'id': 'SH.DYN.MORT', 'value': 'Mortality rate, under-5 (per 1,000 live births)'}, 'country': {'id': 'ZW', 'value': 'Zimbabwe'}, 'countryiso3code': 'ZWE', 'date': '2016', 'value': 58.7, 'unit': '', 'obs_status': '', 'decimal': 0}, {'indicator': {'id': 'SH.DYN.MORT', 'value': 'Mortality rate, under-5 (per 1,000 live births)'}, 'country': {'id': 'ZW', 'value': 'Zimbabwe'}, 'countryiso3code': 'ZWE', 'date': '2015', 'value': 61.3, 'unit': '', 'obs_status': '', 'decimal': 0}, {'indicator': {'id': 'SH.DYN.MORT', 'value': 'Mortality rate, under-5 (per 1,000 live births)'}, 'country': {'id': 'ZW', 'value': 'Zimbabwe'}, 'countryiso3code': 'ZWE', 'date': '2014', 'value': 62.7, 'unit': '', 'obs_status': '', 'decimal': 0}, {'indicator': {'id': 'SH.DYN.MORT', 'value': 'Mortality rate, under-5 (per 1,000 live births)'}, 'country': {'id': 'ZW', 'value': 'Zimbabwe'}, 'countryiso3code': 'ZWE', 'date': '2013', 'value': 66.3, 'unit': '', 'obs_status': '', 'decimal': 0}, {'indicator': {'id': 'SH.DYN.MORT', 'value': 'Mortality rate, under-5 (per 1,000 live births)'}, 'country': {'id': 'ZW', 'value': 'Zimbabwe'}, 'countryiso3code': 'ZWE', 'date': '2012', 'value': 72.2, 'unit': '', 'obs_status': '', 'decimal': 0}, {'indicator': {'id': 'SH.DYN.MORT', 'value': 'Mortality rate, under-5 (per 1,000 live births)'}, 'country': {'id': 'ZW', 'value': 'Zimbabwe'}, 'countryiso3code': 'ZWE', 'date': '2011', 'value': 80.8, 'unit': '', 'obs_status': '', 'decimal': 0}, {'indicator': {'id': 'SH.DYN.MORT', 'value': 'Mortality rate, under-5 (per 1,000 live births)'}, 'country': {'id': 'ZW', 'value': 'Zimbabwe'}, 'countryiso3code': 'ZWE', 'date': '2010', 'value': 86.4, 'unit': '', 'obs_status': '', 'decimal': 0}]]\n",
            "--------Iteration End--------\n"
          ]
        }
      ]
    },
    {
      "cell_type": "code",
      "source": [
        "indicator_code = \"SH.STA.STNT.ME.ZS\"\n",
        "start_date = \"2010\"  # Start date for the data series\n",
        "end_date = \"2020\"  # End date for the data serie\n",
        "\n",
        "country_codes = [\"ZMB\", \"ZAR\", \"SLE\", \"AGO\", \"MWI\", \"ZWE\"]\n",
        "\n",
        "all_data = []\n",
        "\n",
        "\n",
        "for country in country_codes:\n",
        "  print(\"--------Iteration Start--------\")\n",
        "  print(country)\n",
        "\n",
        "\n",
        "  url = url_base.format(country, indicator_code, start_date+\":\"+end_date)\n",
        "  print(url)\n",
        "\n",
        "\n",
        "  response = requests.get(url)\n",
        "  print(response)\n",
        "\n",
        "  data = response.json()\n",
        "  print(data)\n",
        "\n",
        "  all_data.extend(data[1])\n",
        "\n",
        "  print(\"--------Iteration End--------\")\n",
        "\n",
        "\n",
        "with open(\"data2.json\", \"w\") as file:\n",
        "  json.dump(all_data, file)"
      ],
      "metadata": {
        "colab": {
          "base_uri": "https://localhost:8080/"
        },
        "id": "44z8hKtgwKRS",
        "outputId": "bc6e4eff-2e9a-427e-ca82-43997667bed2"
      },
      "execution_count": null,
      "outputs": [
        {
          "output_type": "stream",
          "name": "stdout",
          "text": [
            "--------Iteration Start--------\n",
            "ZMB\n",
            "http://api.worldbank.org/v2/countries/ZMB/indicators/SH.STA.STNT.ME.ZS?date=2010:2020&format=json\n",
            "<Response [200]>\n",
            "[{'page': 1, 'pages': 1, 'per_page': 50, 'total': 11, 'sourceid': '2', 'sourcename': 'World Development Indicators', 'lastupdated': '2022-12-22'}, [{'indicator': {'id': 'SH.STA.STNT.ME.ZS', 'value': 'Prevalence of stunting, height for age (modeled estimate, % of children under 5)'}, 'country': {'id': 'ZM', 'value': 'Zambia'}, 'countryiso3code': 'ZMB', 'date': '2020', 'value': 32.3, 'unit': '', 'obs_status': '', 'decimal': 1}, {'indicator': {'id': 'SH.STA.STNT.ME.ZS', 'value': 'Prevalence of stunting, height for age (modeled estimate, % of children under 5)'}, 'country': {'id': 'ZM', 'value': 'Zambia'}, 'countryiso3code': 'ZMB', 'date': '2019', 'value': 32.9, 'unit': '', 'obs_status': '', 'decimal': 1}, {'indicator': {'id': 'SH.STA.STNT.ME.ZS', 'value': 'Prevalence of stunting, height for age (modeled estimate, % of children under 5)'}, 'country': {'id': 'ZM', 'value': 'Zambia'}, 'countryiso3code': 'ZMB', 'date': '2018', 'value': 33.8, 'unit': '', 'obs_status': '', 'decimal': 1}, {'indicator': {'id': 'SH.STA.STNT.ME.ZS', 'value': 'Prevalence of stunting, height for age (modeled estimate, % of children under 5)'}, 'country': {'id': 'ZM', 'value': 'Zambia'}, 'countryiso3code': 'ZMB', 'date': '2017', 'value': 35, 'unit': '', 'obs_status': '', 'decimal': 1}, {'indicator': {'id': 'SH.STA.STNT.ME.ZS', 'value': 'Prevalence of stunting, height for age (modeled estimate, % of children under 5)'}, 'country': {'id': 'ZM', 'value': 'Zambia'}, 'countryiso3code': 'ZMB', 'date': '2016', 'value': 36.2, 'unit': '', 'obs_status': '', 'decimal': 1}, {'indicator': {'id': 'SH.STA.STNT.ME.ZS', 'value': 'Prevalence of stunting, height for age (modeled estimate, % of children under 5)'}, 'country': {'id': 'ZM', 'value': 'Zambia'}, 'countryiso3code': 'ZMB', 'date': '2015', 'value': 37.6, 'unit': '', 'obs_status': '', 'decimal': 1}, {'indicator': {'id': 'SH.STA.STNT.ME.ZS', 'value': 'Prevalence of stunting, height for age (modeled estimate, % of children under 5)'}, 'country': {'id': 'ZM', 'value': 'Zambia'}, 'countryiso3code': 'ZMB', 'date': '2014', 'value': 38.9, 'unit': '', 'obs_status': '', 'decimal': 1}, {'indicator': {'id': 'SH.STA.STNT.ME.ZS', 'value': 'Prevalence of stunting, height for age (modeled estimate, % of children under 5)'}, 'country': {'id': 'ZM', 'value': 'Zambia'}, 'countryiso3code': 'ZMB', 'date': '2013', 'value': 40.1, 'unit': '', 'obs_status': '', 'decimal': 1}, {'indicator': {'id': 'SH.STA.STNT.ME.ZS', 'value': 'Prevalence of stunting, height for age (modeled estimate, % of children under 5)'}, 'country': {'id': 'ZM', 'value': 'Zambia'}, 'countryiso3code': 'ZMB', 'date': '2012', 'value': 41.3, 'unit': '', 'obs_status': '', 'decimal': 1}, {'indicator': {'id': 'SH.STA.STNT.ME.ZS', 'value': 'Prevalence of stunting, height for age (modeled estimate, % of children under 5)'}, 'country': {'id': 'ZM', 'value': 'Zambia'}, 'countryiso3code': 'ZMB', 'date': '2011', 'value': 42.6, 'unit': '', 'obs_status': '', 'decimal': 1}, {'indicator': {'id': 'SH.STA.STNT.ME.ZS', 'value': 'Prevalence of stunting, height for age (modeled estimate, % of children under 5)'}, 'country': {'id': 'ZM', 'value': 'Zambia'}, 'countryiso3code': 'ZMB', 'date': '2010', 'value': 44, 'unit': '', 'obs_status': '', 'decimal': 1}]]\n",
            "--------Iteration End--------\n",
            "--------Iteration Start--------\n",
            "ZAR\n",
            "http://api.worldbank.org/v2/countries/ZAR/indicators/SH.STA.STNT.ME.ZS?date=2010:2020&format=json\n",
            "<Response [200]>\n",
            "[{'page': 1, 'pages': 1, 'per_page': 50, 'total': 11, 'sourceid': '2', 'sourcename': 'World Development Indicators', 'lastupdated': '2022-12-22'}, [{'indicator': {'id': 'SH.STA.STNT.ME.ZS', 'value': 'Prevalence of stunting, height for age (modeled estimate, % of children under 5)'}, 'country': {'id': 'CD', 'value': 'Congo, Dem. Rep.'}, 'countryiso3code': 'COD', 'date': '2020', 'value': 40.8, 'unit': '', 'obs_status': '', 'decimal': 1}, {'indicator': {'id': 'SH.STA.STNT.ME.ZS', 'value': 'Prevalence of stunting, height for age (modeled estimate, % of children under 5)'}, 'country': {'id': 'CD', 'value': 'Congo, Dem. Rep.'}, 'countryiso3code': 'COD', 'date': '2019', 'value': 41.2, 'unit': '', 'obs_status': '', 'decimal': 1}, {'indicator': {'id': 'SH.STA.STNT.ME.ZS', 'value': 'Prevalence of stunting, height for age (modeled estimate, % of children under 5)'}, 'country': {'id': 'CD', 'value': 'Congo, Dem. Rep.'}, 'countryiso3code': 'COD', 'date': '2018', 'value': 41.5, 'unit': '', 'obs_status': '', 'decimal': 1}, {'indicator': {'id': 'SH.STA.STNT.ME.ZS', 'value': 'Prevalence of stunting, height for age (modeled estimate, % of children under 5)'}, 'country': {'id': 'CD', 'value': 'Congo, Dem. Rep.'}, 'countryiso3code': 'COD', 'date': '2017', 'value': 41.6, 'unit': '', 'obs_status': '', 'decimal': 1}, {'indicator': {'id': 'SH.STA.STNT.ME.ZS', 'value': 'Prevalence of stunting, height for age (modeled estimate, % of children under 5)'}, 'country': {'id': 'CD', 'value': 'Congo, Dem. Rep.'}, 'countryiso3code': 'COD', 'date': '2016', 'value': 41.7, 'unit': '', 'obs_status': '', 'decimal': 1}, {'indicator': {'id': 'SH.STA.STNT.ME.ZS', 'value': 'Prevalence of stunting, height for age (modeled estimate, % of children under 5)'}, 'country': {'id': 'CD', 'value': 'Congo, Dem. Rep.'}, 'countryiso3code': 'COD', 'date': '2015', 'value': 41.7, 'unit': '', 'obs_status': '', 'decimal': 1}, {'indicator': {'id': 'SH.STA.STNT.ME.ZS', 'value': 'Prevalence of stunting, height for age (modeled estimate, % of children under 5)'}, 'country': {'id': 'CD', 'value': 'Congo, Dem. Rep.'}, 'countryiso3code': 'COD', 'date': '2014', 'value': 42, 'unit': '', 'obs_status': '', 'decimal': 1}, {'indicator': {'id': 'SH.STA.STNT.ME.ZS', 'value': 'Prevalence of stunting, height for age (modeled estimate, % of children under 5)'}, 'country': {'id': 'CD', 'value': 'Congo, Dem. Rep.'}, 'countryiso3code': 'COD', 'date': '2013', 'value': 42.4, 'unit': '', 'obs_status': '', 'decimal': 1}, {'indicator': {'id': 'SH.STA.STNT.ME.ZS', 'value': 'Prevalence of stunting, height for age (modeled estimate, % of children under 5)'}, 'country': {'id': 'CD', 'value': 'Congo, Dem. Rep.'}, 'countryiso3code': 'COD', 'date': '2012', 'value': 42.8, 'unit': '', 'obs_status': '', 'decimal': 1}, {'indicator': {'id': 'SH.STA.STNT.ME.ZS', 'value': 'Prevalence of stunting, height for age (modeled estimate, % of children under 5)'}, 'country': {'id': 'CD', 'value': 'Congo, Dem. Rep.'}, 'countryiso3code': 'COD', 'date': '2011', 'value': 43.1, 'unit': '', 'obs_status': '', 'decimal': 1}, {'indicator': {'id': 'SH.STA.STNT.ME.ZS', 'value': 'Prevalence of stunting, height for age (modeled estimate, % of children under 5)'}, 'country': {'id': 'CD', 'value': 'Congo, Dem. Rep.'}, 'countryiso3code': 'COD', 'date': '2010', 'value': 43.6, 'unit': '', 'obs_status': '', 'decimal': 1}]]\n",
            "--------Iteration End--------\n",
            "--------Iteration Start--------\n",
            "SLE\n",
            "http://api.worldbank.org/v2/countries/SLE/indicators/SH.STA.STNT.ME.ZS?date=2010:2020&format=json\n",
            "<Response [200]>\n",
            "[{'page': 1, 'pages': 1, 'per_page': 50, 'total': 11, 'sourceid': '2', 'sourcename': 'World Development Indicators', 'lastupdated': '2022-12-22'}, [{'indicator': {'id': 'SH.STA.STNT.ME.ZS', 'value': 'Prevalence of stunting, height for age (modeled estimate, % of children under 5)'}, 'country': {'id': 'SL', 'value': 'Sierra Leone'}, 'countryiso3code': 'SLE', 'date': '2020', 'value': 26.8, 'unit': '', 'obs_status': '', 'decimal': 1}, {'indicator': {'id': 'SH.STA.STNT.ME.ZS', 'value': 'Prevalence of stunting, height for age (modeled estimate, % of children under 5)'}, 'country': {'id': 'SL', 'value': 'Sierra Leone'}, 'countryiso3code': 'SLE', 'date': '2019', 'value': 27.7, 'unit': '', 'obs_status': '', 'decimal': 1}, {'indicator': {'id': 'SH.STA.STNT.ME.ZS', 'value': 'Prevalence of stunting, height for age (modeled estimate, % of children under 5)'}, 'country': {'id': 'SL', 'value': 'Sierra Leone'}, 'countryiso3code': 'SLE', 'date': '2018', 'value': 28.8, 'unit': '', 'obs_status': '', 'decimal': 1}, {'indicator': {'id': 'SH.STA.STNT.ME.ZS', 'value': 'Prevalence of stunting, height for age (modeled estimate, % of children under 5)'}, 'country': {'id': 'SL', 'value': 'Sierra Leone'}, 'countryiso3code': 'SLE', 'date': '2017', 'value': 30.6, 'unit': '', 'obs_status': '', 'decimal': 1}, {'indicator': {'id': 'SH.STA.STNT.ME.ZS', 'value': 'Prevalence of stunting, height for age (modeled estimate, % of children under 5)'}, 'country': {'id': 'SL', 'value': 'Sierra Leone'}, 'countryiso3code': 'SLE', 'date': '2016', 'value': 31.7, 'unit': '', 'obs_status': '', 'decimal': 1}, {'indicator': {'id': 'SH.STA.STNT.ME.ZS', 'value': 'Prevalence of stunting, height for age (modeled estimate, % of children under 5)'}, 'country': {'id': 'SL', 'value': 'Sierra Leone'}, 'countryiso3code': 'SLE', 'date': '2015', 'value': 32.6, 'unit': '', 'obs_status': '', 'decimal': 1}, {'indicator': {'id': 'SH.STA.STNT.ME.ZS', 'value': 'Prevalence of stunting, height for age (modeled estimate, % of children under 5)'}, 'country': {'id': 'SL', 'value': 'Sierra Leone'}, 'countryiso3code': 'SLE', 'date': '2014', 'value': 33.4, 'unit': '', 'obs_status': '', 'decimal': 1}, {'indicator': {'id': 'SH.STA.STNT.ME.ZS', 'value': 'Prevalence of stunting, height for age (modeled estimate, % of children under 5)'}, 'country': {'id': 'SL', 'value': 'Sierra Leone'}, 'countryiso3code': 'SLE', 'date': '2013', 'value': 34.3, 'unit': '', 'obs_status': '', 'decimal': 1}, {'indicator': {'id': 'SH.STA.STNT.ME.ZS', 'value': 'Prevalence of stunting, height for age (modeled estimate, % of children under 5)'}, 'country': {'id': 'SL', 'value': 'Sierra Leone'}, 'countryiso3code': 'SLE', 'date': '2012', 'value': 35.4, 'unit': '', 'obs_status': '', 'decimal': 1}, {'indicator': {'id': 'SH.STA.STNT.ME.ZS', 'value': 'Prevalence of stunting, height for age (modeled estimate, % of children under 5)'}, 'country': {'id': 'SL', 'value': 'Sierra Leone'}, 'countryiso3code': 'SLE', 'date': '2011', 'value': 36.4, 'unit': '', 'obs_status': '', 'decimal': 1}, {'indicator': {'id': 'SH.STA.STNT.ME.ZS', 'value': 'Prevalence of stunting, height for age (modeled estimate, % of children under 5)'}, 'country': {'id': 'SL', 'value': 'Sierra Leone'}, 'countryiso3code': 'SLE', 'date': '2010', 'value': 37.4, 'unit': '', 'obs_status': '', 'decimal': 1}]]\n",
            "--------Iteration End--------\n",
            "--------Iteration Start--------\n",
            "AGO\n",
            "http://api.worldbank.org/v2/countries/AGO/indicators/SH.STA.STNT.ME.ZS?date=2010:2020&format=json\n",
            "<Response [200]>\n",
            "[{'page': 1, 'pages': 1, 'per_page': 50, 'total': 11, 'sourceid': '2', 'sourcename': 'World Development Indicators', 'lastupdated': '2022-12-22'}, [{'indicator': {'id': 'SH.STA.STNT.ME.ZS', 'value': 'Prevalence of stunting, height for age (modeled estimate, % of children under 5)'}, 'country': {'id': 'AO', 'value': 'Angola'}, 'countryiso3code': 'AGO', 'date': '2020', 'value': 37.7, 'unit': '', 'obs_status': '', 'decimal': 1}, {'indicator': {'id': 'SH.STA.STNT.ME.ZS', 'value': 'Prevalence of stunting, height for age (modeled estimate, % of children under 5)'}, 'country': {'id': 'AO', 'value': 'Angola'}, 'countryiso3code': 'AGO', 'date': '2019', 'value': 37.4, 'unit': '', 'obs_status': '', 'decimal': 1}, {'indicator': {'id': 'SH.STA.STNT.ME.ZS', 'value': 'Prevalence of stunting, height for age (modeled estimate, % of children under 5)'}, 'country': {'id': 'AO', 'value': 'Angola'}, 'countryiso3code': 'AGO', 'date': '2018', 'value': 36.8, 'unit': '', 'obs_status': '', 'decimal': 1}, {'indicator': {'id': 'SH.STA.STNT.ME.ZS', 'value': 'Prevalence of stunting, height for age (modeled estimate, % of children under 5)'}, 'country': {'id': 'AO', 'value': 'Angola'}, 'countryiso3code': 'AGO', 'date': '2017', 'value': 36.1, 'unit': '', 'obs_status': '', 'decimal': 1}, {'indicator': {'id': 'SH.STA.STNT.ME.ZS', 'value': 'Prevalence of stunting, height for age (modeled estimate, % of children under 5)'}, 'country': {'id': 'AO', 'value': 'Angola'}, 'countryiso3code': 'AGO', 'date': '2016', 'value': 35.2, 'unit': '', 'obs_status': '', 'decimal': 1}, {'indicator': {'id': 'SH.STA.STNT.ME.ZS', 'value': 'Prevalence of stunting, height for age (modeled estimate, % of children under 5)'}, 'country': {'id': 'AO', 'value': 'Angola'}, 'countryiso3code': 'AGO', 'date': '2015', 'value': 34.4, 'unit': '', 'obs_status': '', 'decimal': 1}, {'indicator': {'id': 'SH.STA.STNT.ME.ZS', 'value': 'Prevalence of stunting, height for age (modeled estimate, % of children under 5)'}, 'country': {'id': 'AO', 'value': 'Angola'}, 'countryiso3code': 'AGO', 'date': '2014', 'value': 33.6, 'unit': '', 'obs_status': '', 'decimal': 1}, {'indicator': {'id': 'SH.STA.STNT.ME.ZS', 'value': 'Prevalence of stunting, height for age (modeled estimate, % of children under 5)'}, 'country': {'id': 'AO', 'value': 'Angola'}, 'countryiso3code': 'AGO', 'date': '2013', 'value': 32.9, 'unit': '', 'obs_status': '', 'decimal': 1}, {'indicator': {'id': 'SH.STA.STNT.ME.ZS', 'value': 'Prevalence of stunting, height for age (modeled estimate, % of children under 5)'}, 'country': {'id': 'AO', 'value': 'Angola'}, 'countryiso3code': 'AGO', 'date': '2012', 'value': 32.4, 'unit': '', 'obs_status': '', 'decimal': 1}, {'indicator': {'id': 'SH.STA.STNT.ME.ZS', 'value': 'Prevalence of stunting, height for age (modeled estimate, % of children under 5)'}, 'country': {'id': 'AO', 'value': 'Angola'}, 'countryiso3code': 'AGO', 'date': '2011', 'value': 32, 'unit': '', 'obs_status': '', 'decimal': 1}, {'indicator': {'id': 'SH.STA.STNT.ME.ZS', 'value': 'Prevalence of stunting, height for age (modeled estimate, % of children under 5)'}, 'country': {'id': 'AO', 'value': 'Angola'}, 'countryiso3code': 'AGO', 'date': '2010', 'value': 31.9, 'unit': '', 'obs_status': '', 'decimal': 1}]]\n",
            "--------Iteration End--------\n",
            "--------Iteration Start--------\n",
            "MWI\n",
            "http://api.worldbank.org/v2/countries/MWI/indicators/SH.STA.STNT.ME.ZS?date=2010:2020&format=json\n",
            "<Response [200]>\n",
            "[{'page': 1, 'pages': 1, 'per_page': 50, 'total': 11, 'sourceid': '2', 'sourcename': 'World Development Indicators', 'lastupdated': '2022-12-22'}, [{'indicator': {'id': 'SH.STA.STNT.ME.ZS', 'value': 'Prevalence of stunting, height for age (modeled estimate, % of children under 5)'}, 'country': {'id': 'MW', 'value': 'Malawi'}, 'countryiso3code': 'MWI', 'date': '2020', 'value': 37, 'unit': '', 'obs_status': '', 'decimal': 1}, {'indicator': {'id': 'SH.STA.STNT.ME.ZS', 'value': 'Prevalence of stunting, height for age (modeled estimate, % of children under 5)'}, 'country': {'id': 'MW', 'value': 'Malawi'}, 'countryiso3code': 'MWI', 'date': '2019', 'value': 37.8, 'unit': '', 'obs_status': '', 'decimal': 1}, {'indicator': {'id': 'SH.STA.STNT.ME.ZS', 'value': 'Prevalence of stunting, height for age (modeled estimate, % of children under 5)'}, 'country': {'id': 'MW', 'value': 'Malawi'}, 'countryiso3code': 'MWI', 'date': '2018', 'value': 38.5, 'unit': '', 'obs_status': '', 'decimal': 1}, {'indicator': {'id': 'SH.STA.STNT.ME.ZS', 'value': 'Prevalence of stunting, height for age (modeled estimate, % of children under 5)'}, 'country': {'id': 'MW', 'value': 'Malawi'}, 'countryiso3code': 'MWI', 'date': '2017', 'value': 39.1, 'unit': '', 'obs_status': '', 'decimal': 1}, {'indicator': {'id': 'SH.STA.STNT.ME.ZS', 'value': 'Prevalence of stunting, height for age (modeled estimate, % of children under 5)'}, 'country': {'id': 'MW', 'value': 'Malawi'}, 'countryiso3code': 'MWI', 'date': '2016', 'value': 39.5, 'unit': '', 'obs_status': '', 'decimal': 1}, {'indicator': {'id': 'SH.STA.STNT.ME.ZS', 'value': 'Prevalence of stunting, height for age (modeled estimate, % of children under 5)'}, 'country': {'id': 'MW', 'value': 'Malawi'}, 'countryiso3code': 'MWI', 'date': '2015', 'value': 40.2, 'unit': '', 'obs_status': '', 'decimal': 1}, {'indicator': {'id': 'SH.STA.STNT.ME.ZS', 'value': 'Prevalence of stunting, height for age (modeled estimate, % of children under 5)'}, 'country': {'id': 'MW', 'value': 'Malawi'}, 'countryiso3code': 'MWI', 'date': '2014', 'value': 41.2, 'unit': '', 'obs_status': '', 'decimal': 1}, {'indicator': {'id': 'SH.STA.STNT.ME.ZS', 'value': 'Prevalence of stunting, height for age (modeled estimate, % of children under 5)'}, 'country': {'id': 'MW', 'value': 'Malawi'}, 'countryiso3code': 'MWI', 'date': '2013', 'value': 42.4, 'unit': '', 'obs_status': '', 'decimal': 1}, {'indicator': {'id': 'SH.STA.STNT.ME.ZS', 'value': 'Prevalence of stunting, height for age (modeled estimate, % of children under 5)'}, 'country': {'id': 'MW', 'value': 'Malawi'}, 'countryiso3code': 'MWI', 'date': '2012', 'value': 43.8, 'unit': '', 'obs_status': '', 'decimal': 1}, {'indicator': {'id': 'SH.STA.STNT.ME.ZS', 'value': 'Prevalence of stunting, height for age (modeled estimate, % of children under 5)'}, 'country': {'id': 'MW', 'value': 'Malawi'}, 'countryiso3code': 'MWI', 'date': '2011', 'value': 45.3, 'unit': '', 'obs_status': '', 'decimal': 1}, {'indicator': {'id': 'SH.STA.STNT.ME.ZS', 'value': 'Prevalence of stunting, height for age (modeled estimate, % of children under 5)'}, 'country': {'id': 'MW', 'value': 'Malawi'}, 'countryiso3code': 'MWI', 'date': '2010', 'value': 46.8, 'unit': '', 'obs_status': '', 'decimal': 1}]]\n",
            "--------Iteration End--------\n",
            "--------Iteration Start--------\n",
            "ZWE\n",
            "http://api.worldbank.org/v2/countries/ZWE/indicators/SH.STA.STNT.ME.ZS?date=2010:2020&format=json\n",
            "<Response [200]>\n",
            "[{'page': 1, 'pages': 1, 'per_page': 50, 'total': 11, 'sourceid': '2', 'sourcename': 'World Development Indicators', 'lastupdated': '2022-12-22'}, [{'indicator': {'id': 'SH.STA.STNT.ME.ZS', 'value': 'Prevalence of stunting, height for age (modeled estimate, % of children under 5)'}, 'country': {'id': 'ZW', 'value': 'Zimbabwe'}, 'countryiso3code': 'ZWE', 'date': '2020', 'value': 23, 'unit': '', 'obs_status': '', 'decimal': 1}, {'indicator': {'id': 'SH.STA.STNT.ME.ZS', 'value': 'Prevalence of stunting, height for age (modeled estimate, % of children under 5)'}, 'country': {'id': 'ZW', 'value': 'Zimbabwe'}, 'countryiso3code': 'ZWE', 'date': '2019', 'value': 23.5, 'unit': '', 'obs_status': '', 'decimal': 1}, {'indicator': {'id': 'SH.STA.STNT.ME.ZS', 'value': 'Prevalence of stunting, height for age (modeled estimate, % of children under 5)'}, 'country': {'id': 'ZW', 'value': 'Zimbabwe'}, 'countryiso3code': 'ZWE', 'date': '2018', 'value': 24.2, 'unit': '', 'obs_status': '', 'decimal': 1}, {'indicator': {'id': 'SH.STA.STNT.ME.ZS', 'value': 'Prevalence of stunting, height for age (modeled estimate, % of children under 5)'}, 'country': {'id': 'ZW', 'value': 'Zimbabwe'}, 'countryiso3code': 'ZWE', 'date': '2017', 'value': 24.9, 'unit': '', 'obs_status': '', 'decimal': 1}, {'indicator': {'id': 'SH.STA.STNT.ME.ZS', 'value': 'Prevalence of stunting, height for age (modeled estimate, % of children under 5)'}, 'country': {'id': 'ZW', 'value': 'Zimbabwe'}, 'countryiso3code': 'ZWE', 'date': '2016', 'value': 25.8, 'unit': '', 'obs_status': '', 'decimal': 1}, {'indicator': {'id': 'SH.STA.STNT.ME.ZS', 'value': 'Prevalence of stunting, height for age (modeled estimate, % of children under 5)'}, 'country': {'id': 'ZW', 'value': 'Zimbabwe'}, 'countryiso3code': 'ZWE', 'date': '2015', 'value': 26.8, 'unit': '', 'obs_status': '', 'decimal': 1}, {'indicator': {'id': 'SH.STA.STNT.ME.ZS', 'value': 'Prevalence of stunting, height for age (modeled estimate, % of children under 5)'}, 'country': {'id': 'ZW', 'value': 'Zimbabwe'}, 'countryiso3code': 'ZWE', 'date': '2014', 'value': 28.2, 'unit': '', 'obs_status': '', 'decimal': 1}, {'indicator': {'id': 'SH.STA.STNT.ME.ZS', 'value': 'Prevalence of stunting, height for age (modeled estimate, % of children under 5)'}, 'country': {'id': 'ZW', 'value': 'Zimbabwe'}, 'countryiso3code': 'ZWE', 'date': '2013', 'value': 29.7, 'unit': '', 'obs_status': '', 'decimal': 1}, {'indicator': {'id': 'SH.STA.STNT.ME.ZS', 'value': 'Prevalence of stunting, height for age (modeled estimate, % of children under 5)'}, 'country': {'id': 'ZW', 'value': 'Zimbabwe'}, 'countryiso3code': 'ZWE', 'date': '2012', 'value': 31.4, 'unit': '', 'obs_status': '', 'decimal': 1}, {'indicator': {'id': 'SH.STA.STNT.ME.ZS', 'value': 'Prevalence of stunting, height for age (modeled estimate, % of children under 5)'}, 'country': {'id': 'ZW', 'value': 'Zimbabwe'}, 'countryiso3code': 'ZWE', 'date': '2011', 'value': 32.8, 'unit': '', 'obs_status': '', 'decimal': 1}, {'indicator': {'id': 'SH.STA.STNT.ME.ZS', 'value': 'Prevalence of stunting, height for age (modeled estimate, % of children under 5)'}, 'country': {'id': 'ZW', 'value': 'Zimbabwe'}, 'countryiso3code': 'ZWE', 'date': '2010', 'value': 33.7, 'unit': '', 'obs_status': '', 'decimal': 1}]]\n",
            "--------Iteration End--------\n"
          ]
        }
      ]
    },
    {
      "cell_type": "code",
      "source": [
        "import csv\n",
        "\n",
        "indicator_code = \"SH.DYN.MORT\"\n",
        "start_date = \"2010\"  # Start date for the data series\n",
        "end_date = \"2020\"  # End date for the data series\n",
        "# Set the list of countries you want to retrieve data for\n",
        "country_codes = [\"ZMB\", \"ZAR\", \"SLE\", \"AGO\", \"MWI\", \"ZWE\"]\n",
        "\n",
        "# Initialize an empty list to store the data for all countries\n",
        "all_data = []\n",
        "\n",
        "# Iterate through the list of countries\n",
        "for country in country_codes:\n",
        "  print(\"--------Iteration Start--------\")\n",
        "  print(country)\n",
        "\n",
        "  # Construct the API URL for the current country and indicator\n",
        "  url = url_base.format(country, indicator_code, start_date+\":\"+end_date)\n",
        "  print(url)\n",
        "\n",
        "  # Make the API request and store the response\n",
        "  response = requests.get(url)\n",
        "  print(response)\n",
        "\n",
        "  # Extract the data from the response\n",
        "  data = response.json()\n",
        "  print(data)\n",
        "\n",
        "  # Append the data for the current country to the list of all data\n",
        "  all_data.extend(data[1])\n",
        "\n",
        "  print(\"--------Iteration End--------\")\n",
        "\n",
        "# Save the data for all countries to a single CSV file\n",
        "\n",
        "with open(\"data2.csv\", \"w\", newline=\"\") as file:\n",
        "  writer = csv.writer(file)\n",
        "  writer.writerow([\"date\", \"value\", \"country\"])\n",
        "  for row in all_data:\n",
        "    writer.writerow([row[\"date\"], row[\"value\"], row[\"country\"]])\n"
      ],
      "metadata": {
        "colab": {
          "base_uri": "https://localhost:8080/"
        },
        "id": "hbDEs1EtyCa3",
        "outputId": "91c12aca-434c-417d-cfbf-95e9bb34de64"
      },
      "execution_count": null,
      "outputs": [
        {
          "output_type": "stream",
          "name": "stdout",
          "text": [
            "--------Iteration Start--------\n",
            "ZMB\n",
            "http://api.worldbank.org/v2/countries/ZMB/indicators/SH.DYN.MORT?date=2010:2020&format=json\n",
            "<Response [200]>\n",
            "[{'page': 1, 'pages': 1, 'per_page': 50, 'total': 11, 'sourceid': '2', 'sourcename': 'World Development Indicators', 'lastupdated': '2022-12-22'}, [{'indicator': {'id': 'SH.DYN.MORT', 'value': 'Mortality rate, under-5 (per 1,000 live births)'}, 'country': {'id': 'ZM', 'value': 'Zambia'}, 'countryiso3code': 'ZMB', 'date': '2020', 'value': 61.4, 'unit': '', 'obs_status': '', 'decimal': 0}, {'indicator': {'id': 'SH.DYN.MORT', 'value': 'Mortality rate, under-5 (per 1,000 live births)'}, 'country': {'id': 'ZM', 'value': 'Zambia'}, 'countryiso3code': 'ZMB', 'date': '2019', 'value': 64.1, 'unit': '', 'obs_status': '', 'decimal': 0}, {'indicator': {'id': 'SH.DYN.MORT', 'value': 'Mortality rate, under-5 (per 1,000 live births)'}, 'country': {'id': 'ZM', 'value': 'Zambia'}, 'countryiso3code': 'ZMB', 'date': '2018', 'value': 65.4, 'unit': '', 'obs_status': '', 'decimal': 0}, {'indicator': {'id': 'SH.DYN.MORT', 'value': 'Mortality rate, under-5 (per 1,000 live births)'}, 'country': {'id': 'ZM', 'value': 'Zambia'}, 'countryiso3code': 'ZMB', 'date': '2017', 'value': 64.6, 'unit': '', 'obs_status': '', 'decimal': 0}, {'indicator': {'id': 'SH.DYN.MORT', 'value': 'Mortality rate, under-5 (per 1,000 live births)'}, 'country': {'id': 'ZM', 'value': 'Zambia'}, 'countryiso3code': 'ZMB', 'date': '2016', 'value': 65.3, 'unit': '', 'obs_status': '', 'decimal': 0}, {'indicator': {'id': 'SH.DYN.MORT', 'value': 'Mortality rate, under-5 (per 1,000 live births)'}, 'country': {'id': 'ZM', 'value': 'Zambia'}, 'countryiso3code': 'ZMB', 'date': '2015', 'value': 67.7, 'unit': '', 'obs_status': '', 'decimal': 0}, {'indicator': {'id': 'SH.DYN.MORT', 'value': 'Mortality rate, under-5 (per 1,000 live births)'}, 'country': {'id': 'ZM', 'value': 'Zambia'}, 'countryiso3code': 'ZMB', 'date': '2014', 'value': 68.3, 'unit': '', 'obs_status': '', 'decimal': 0}, {'indicator': {'id': 'SH.DYN.MORT', 'value': 'Mortality rate, under-5 (per 1,000 live births)'}, 'country': {'id': 'ZM', 'value': 'Zambia'}, 'countryiso3code': 'ZMB', 'date': '2013', 'value': 71.1, 'unit': '', 'obs_status': '', 'decimal': 0}, {'indicator': {'id': 'SH.DYN.MORT', 'value': 'Mortality rate, under-5 (per 1,000 live births)'}, 'country': {'id': 'ZM', 'value': 'Zambia'}, 'countryiso3code': 'ZMB', 'date': '2012', 'value': 74.7, 'unit': '', 'obs_status': '', 'decimal': 0}, {'indicator': {'id': 'SH.DYN.MORT', 'value': 'Mortality rate, under-5 (per 1,000 live births)'}, 'country': {'id': 'ZM', 'value': 'Zambia'}, 'countryiso3code': 'ZMB', 'date': '2011', 'value': 76.8, 'unit': '', 'obs_status': '', 'decimal': 0}, {'indicator': {'id': 'SH.DYN.MORT', 'value': 'Mortality rate, under-5 (per 1,000 live births)'}, 'country': {'id': 'ZM', 'value': 'Zambia'}, 'countryiso3code': 'ZMB', 'date': '2010', 'value': 79, 'unit': '', 'obs_status': '', 'decimal': 0}]]\n",
            "--------Iteration End--------\n",
            "--------Iteration Start--------\n",
            "ZAR\n",
            "http://api.worldbank.org/v2/countries/ZAR/indicators/SH.DYN.MORT?date=2010:2020&format=json\n",
            "<Response [200]>\n",
            "[{'page': 1, 'pages': 1, 'per_page': 50, 'total': 11, 'sourceid': '2', 'sourcename': 'World Development Indicators', 'lastupdated': '2022-12-22'}, [{'indicator': {'id': 'SH.DYN.MORT', 'value': 'Mortality rate, under-5 (per 1,000 live births)'}, 'country': {'id': 'CD', 'value': 'Congo, Dem. Rep.'}, 'countryiso3code': 'COD', 'date': '2020', 'value': 81.2, 'unit': '', 'obs_status': '', 'decimal': 0}, {'indicator': {'id': 'SH.DYN.MORT', 'value': 'Mortality rate, under-5 (per 1,000 live births)'}, 'country': {'id': 'CD', 'value': 'Congo, Dem. Rep.'}, 'countryiso3code': 'COD', 'date': '2019', 'value': 83.8, 'unit': '', 'obs_status': '', 'decimal': 0}, {'indicator': {'id': 'SH.DYN.MORT', 'value': 'Mortality rate, under-5 (per 1,000 live births)'}, 'country': {'id': 'CD', 'value': 'Congo, Dem. Rep.'}, 'countryiso3code': 'COD', 'date': '2018', 'value': 86.6, 'unit': '', 'obs_status': '', 'decimal': 0}, {'indicator': {'id': 'SH.DYN.MORT', 'value': 'Mortality rate, under-5 (per 1,000 live births)'}, 'country': {'id': 'CD', 'value': 'Congo, Dem. Rep.'}, 'countryiso3code': 'COD', 'date': '2017', 'value': 89.6, 'unit': '', 'obs_status': '', 'decimal': 0}, {'indicator': {'id': 'SH.DYN.MORT', 'value': 'Mortality rate, under-5 (per 1,000 live births)'}, 'country': {'id': 'CD', 'value': 'Congo, Dem. Rep.'}, 'countryiso3code': 'COD', 'date': '2016', 'value': 92.8, 'unit': '', 'obs_status': '', 'decimal': 0}, {'indicator': {'id': 'SH.DYN.MORT', 'value': 'Mortality rate, under-5 (per 1,000 live births)'}, 'country': {'id': 'CD', 'value': 'Congo, Dem. Rep.'}, 'countryiso3code': 'COD', 'date': '2015', 'value': 95.9, 'unit': '', 'obs_status': '', 'decimal': 0}, {'indicator': {'id': 'SH.DYN.MORT', 'value': 'Mortality rate, under-5 (per 1,000 live births)'}, 'country': {'id': 'CD', 'value': 'Congo, Dem. Rep.'}, 'countryiso3code': 'COD', 'date': '2014', 'value': 99.2, 'unit': '', 'obs_status': '', 'decimal': 0}, {'indicator': {'id': 'SH.DYN.MORT', 'value': 'Mortality rate, under-5 (per 1,000 live births)'}, 'country': {'id': 'CD', 'value': 'Congo, Dem. Rep.'}, 'countryiso3code': 'COD', 'date': '2013', 'value': 102.5, 'unit': '', 'obs_status': '', 'decimal': 0}, {'indicator': {'id': 'SH.DYN.MORT', 'value': 'Mortality rate, under-5 (per 1,000 live births)'}, 'country': {'id': 'CD', 'value': 'Congo, Dem. Rep.'}, 'countryiso3code': 'COD', 'date': '2012', 'value': 106.1, 'unit': '', 'obs_status': '', 'decimal': 0}, {'indicator': {'id': 'SH.DYN.MORT', 'value': 'Mortality rate, under-5 (per 1,000 live births)'}, 'country': {'id': 'CD', 'value': 'Congo, Dem. Rep.'}, 'countryiso3code': 'COD', 'date': '2011', 'value': 109.9, 'unit': '', 'obs_status': '', 'decimal': 0}, {'indicator': {'id': 'SH.DYN.MORT', 'value': 'Mortality rate, under-5 (per 1,000 live births)'}, 'country': {'id': 'CD', 'value': 'Congo, Dem. Rep.'}, 'countryiso3code': 'COD', 'date': '2010', 'value': 113.8, 'unit': '', 'obs_status': '', 'decimal': 0}]]\n",
            "--------Iteration End--------\n",
            "--------Iteration Start--------\n",
            "SLE\n",
            "http://api.worldbank.org/v2/countries/SLE/indicators/SH.DYN.MORT?date=2010:2020&format=json\n",
            "<Response [200]>\n",
            "[{'page': 1, 'pages': 1, 'per_page': 50, 'total': 11, 'sourceid': '2', 'sourcename': 'World Development Indicators', 'lastupdated': '2022-12-22'}, [{'indicator': {'id': 'SH.DYN.MORT', 'value': 'Mortality rate, under-5 (per 1,000 live births)'}, 'country': {'id': 'SL', 'value': 'Sierra Leone'}, 'countryiso3code': 'SLE', 'date': '2020', 'value': 107.8, 'unit': '', 'obs_status': '', 'decimal': 0}, {'indicator': {'id': 'SH.DYN.MORT', 'value': 'Mortality rate, under-5 (per 1,000 live births)'}, 'country': {'id': 'SL', 'value': 'Sierra Leone'}, 'countryiso3code': 'SLE', 'date': '2019', 'value': 111.9, 'unit': '', 'obs_status': '', 'decimal': 0}, {'indicator': {'id': 'SH.DYN.MORT', 'value': 'Mortality rate, under-5 (per 1,000 live births)'}, 'country': {'id': 'SL', 'value': 'Sierra Leone'}, 'countryiso3code': 'SLE', 'date': '2018', 'value': 116.2, 'unit': '', 'obs_status': '', 'decimal': 0}, {'indicator': {'id': 'SH.DYN.MORT', 'value': 'Mortality rate, under-5 (per 1,000 live births)'}, 'country': {'id': 'SL', 'value': 'Sierra Leone'}, 'countryiso3code': 'SLE', 'date': '2017', 'value': 120.7, 'unit': '', 'obs_status': '', 'decimal': 0}, {'indicator': {'id': 'SH.DYN.MORT', 'value': 'Mortality rate, under-5 (per 1,000 live births)'}, 'country': {'id': 'SL', 'value': 'Sierra Leone'}, 'countryiso3code': 'SLE', 'date': '2016', 'value': 125.4, 'unit': '', 'obs_status': '', 'decimal': 0}, {'indicator': {'id': 'SH.DYN.MORT', 'value': 'Mortality rate, under-5 (per 1,000 live births)'}, 'country': {'id': 'SL', 'value': 'Sierra Leone'}, 'countryiso3code': 'SLE', 'date': '2015', 'value': 140.2, 'unit': '', 'obs_status': '', 'decimal': 0}, {'indicator': {'id': 'SH.DYN.MORT', 'value': 'Mortality rate, under-5 (per 1,000 live births)'}, 'country': {'id': 'SL', 'value': 'Sierra Leone'}, 'countryiso3code': 'SLE', 'date': '2014', 'value': 139.2, 'unit': '', 'obs_status': '', 'decimal': 0}, {'indicator': {'id': 'SH.DYN.MORT', 'value': 'Mortality rate, under-5 (per 1,000 live births)'}, 'country': {'id': 'SL', 'value': 'Sierra Leone'}, 'countryiso3code': 'SLE', 'date': '2013', 'value': 141.2, 'unit': '', 'obs_status': '', 'decimal': 0}, {'indicator': {'id': 'SH.DYN.MORT', 'value': 'Mortality rate, under-5 (per 1,000 live births)'}, 'country': {'id': 'SL', 'value': 'Sierra Leone'}, 'countryiso3code': 'SLE', 'date': '2012', 'value': 147.3, 'unit': '', 'obs_status': '', 'decimal': 0}, {'indicator': {'id': 'SH.DYN.MORT', 'value': 'Mortality rate, under-5 (per 1,000 live births)'}, 'country': {'id': 'SL', 'value': 'Sierra Leone'}, 'countryiso3code': 'SLE', 'date': '2011', 'value': 153.8, 'unit': '', 'obs_status': '', 'decimal': 0}, {'indicator': {'id': 'SH.DYN.MORT', 'value': 'Mortality rate, under-5 (per 1,000 live births)'}, 'country': {'id': 'SL', 'value': 'Sierra Leone'}, 'countryiso3code': 'SLE', 'date': '2010', 'value': 160.6, 'unit': '', 'obs_status': '', 'decimal': 0}]]\n",
            "--------Iteration End--------\n",
            "--------Iteration Start--------\n",
            "AGO\n",
            "http://api.worldbank.org/v2/countries/AGO/indicators/SH.DYN.MORT?date=2010:2020&format=json\n",
            "<Response [200]>\n",
            "[{'page': 1, 'pages': 1, 'per_page': 50, 'total': 11, 'sourceid': '2', 'sourcename': 'World Development Indicators', 'lastupdated': '2022-12-22'}, [{'indicator': {'id': 'SH.DYN.MORT', 'value': 'Mortality rate, under-5 (per 1,000 live births)'}, 'country': {'id': 'AO', 'value': 'Angola'}, 'countryiso3code': 'AGO', 'date': '2020', 'value': 71.5, 'unit': '', 'obs_status': '', 'decimal': 0}, {'indicator': {'id': 'SH.DYN.MORT', 'value': 'Mortality rate, under-5 (per 1,000 live births)'}, 'country': {'id': 'AO', 'value': 'Angola'}, 'countryiso3code': 'AGO', 'date': '2019', 'value': 74.2, 'unit': '', 'obs_status': '', 'decimal': 0}, {'indicator': {'id': 'SH.DYN.MORT', 'value': 'Mortality rate, under-5 (per 1,000 live births)'}, 'country': {'id': 'AO', 'value': 'Angola'}, 'countryiso3code': 'AGO', 'date': '2018', 'value': 77.3, 'unit': '', 'obs_status': '', 'decimal': 0}, {'indicator': {'id': 'SH.DYN.MORT', 'value': 'Mortality rate, under-5 (per 1,000 live births)'}, 'country': {'id': 'AO', 'value': 'Angola'}, 'countryiso3code': 'AGO', 'date': '2017', 'value': 80.6, 'unit': '', 'obs_status': '', 'decimal': 0}, {'indicator': {'id': 'SH.DYN.MORT', 'value': 'Mortality rate, under-5 (per 1,000 live births)'}, 'country': {'id': 'AO', 'value': 'Angola'}, 'countryiso3code': 'AGO', 'date': '2016', 'value': 84.1, 'unit': '', 'obs_status': '', 'decimal': 0}, {'indicator': {'id': 'SH.DYN.MORT', 'value': 'Mortality rate, under-5 (per 1,000 live births)'}, 'country': {'id': 'AO', 'value': 'Angola'}, 'countryiso3code': 'AGO', 'date': '2015', 'value': 88.1, 'unit': '', 'obs_status': '', 'decimal': 0}, {'indicator': {'id': 'SH.DYN.MORT', 'value': 'Mortality rate, under-5 (per 1,000 live births)'}, 'country': {'id': 'AO', 'value': 'Angola'}, 'countryiso3code': 'AGO', 'date': '2014', 'value': 92.9, 'unit': '', 'obs_status': '', 'decimal': 0}, {'indicator': {'id': 'SH.DYN.MORT', 'value': 'Mortality rate, under-5 (per 1,000 live births)'}, 'country': {'id': 'AO', 'value': 'Angola'}, 'countryiso3code': 'AGO', 'date': '2013', 'value': 98.5, 'unit': '', 'obs_status': '', 'decimal': 0}, {'indicator': {'id': 'SH.DYN.MORT', 'value': 'Mortality rate, under-5 (per 1,000 live births)'}, 'country': {'id': 'AO', 'value': 'Angola'}, 'countryiso3code': 'AGO', 'date': '2012', 'value': 105.1, 'unit': '', 'obs_status': '', 'decimal': 0}, {'indicator': {'id': 'SH.DYN.MORT', 'value': 'Mortality rate, under-5 (per 1,000 live births)'}, 'country': {'id': 'AO', 'value': 'Angola'}, 'countryiso3code': 'AGO', 'date': '2011', 'value': 112.5, 'unit': '', 'obs_status': '', 'decimal': 0}, {'indicator': {'id': 'SH.DYN.MORT', 'value': 'Mortality rate, under-5 (per 1,000 live births)'}, 'country': {'id': 'AO', 'value': 'Angola'}, 'countryiso3code': 'AGO', 'date': '2010', 'value': 120.4, 'unit': '', 'obs_status': '', 'decimal': 0}]]\n",
            "--------Iteration End--------\n",
            "--------Iteration Start--------\n",
            "MWI\n",
            "http://api.worldbank.org/v2/countries/MWI/indicators/SH.DYN.MORT?date=2010:2020&format=json\n",
            "<Response [200]>\n",
            "[{'page': 1, 'pages': 1, 'per_page': 50, 'total': 11, 'sourceid': '2', 'sourcename': 'World Development Indicators', 'lastupdated': '2022-12-22'}, [{'indicator': {'id': 'SH.DYN.MORT', 'value': 'Mortality rate, under-5 (per 1,000 live births)'}, 'country': {'id': 'MW', 'value': 'Malawi'}, 'countryiso3code': 'MWI', 'date': '2020', 'value': 38.6, 'unit': '', 'obs_status': '', 'decimal': 0}, {'indicator': {'id': 'SH.DYN.MORT', 'value': 'Mortality rate, under-5 (per 1,000 live births)'}, 'country': {'id': 'MW', 'value': 'Malawi'}, 'countryiso3code': 'MWI', 'date': '2019', 'value': 40.6, 'unit': '', 'obs_status': '', 'decimal': 0}, {'indicator': {'id': 'SH.DYN.MORT', 'value': 'Mortality rate, under-5 (per 1,000 live births)'}, 'country': {'id': 'MW', 'value': 'Malawi'}, 'countryiso3code': 'MWI', 'date': '2018', 'value': 43.1, 'unit': '', 'obs_status': '', 'decimal': 0}, {'indicator': {'id': 'SH.DYN.MORT', 'value': 'Mortality rate, under-5 (per 1,000 live births)'}, 'country': {'id': 'MW', 'value': 'Malawi'}, 'countryiso3code': 'MWI', 'date': '2017', 'value': 46.2, 'unit': '', 'obs_status': '', 'decimal': 0}, {'indicator': {'id': 'SH.DYN.MORT', 'value': 'Mortality rate, under-5 (per 1,000 live births)'}, 'country': {'id': 'MW', 'value': 'Malawi'}, 'countryiso3code': 'MWI', 'date': '2016', 'value': 49.5, 'unit': '', 'obs_status': '', 'decimal': 0}, {'indicator': {'id': 'SH.DYN.MORT', 'value': 'Mortality rate, under-5 (per 1,000 live births)'}, 'country': {'id': 'MW', 'value': 'Malawi'}, 'countryiso3code': 'MWI', 'date': '2015', 'value': 53.3, 'unit': '', 'obs_status': '', 'decimal': 0}, {'indicator': {'id': 'SH.DYN.MORT', 'value': 'Mortality rate, under-5 (per 1,000 live births)'}, 'country': {'id': 'MW', 'value': 'Malawi'}, 'countryiso3code': 'MWI', 'date': '2014', 'value': 57.6, 'unit': '', 'obs_status': '', 'decimal': 0}, {'indicator': {'id': 'SH.DYN.MORT', 'value': 'Mortality rate, under-5 (per 1,000 live births)'}, 'country': {'id': 'MW', 'value': 'Malawi'}, 'countryiso3code': 'MWI', 'date': '2013', 'value': 63.4, 'unit': '', 'obs_status': '', 'decimal': 0}, {'indicator': {'id': 'SH.DYN.MORT', 'value': 'Mortality rate, under-5 (per 1,000 live births)'}, 'country': {'id': 'MW', 'value': 'Malawi'}, 'countryiso3code': 'MWI', 'date': '2012', 'value': 70.7, 'unit': '', 'obs_status': '', 'decimal': 0}, {'indicator': {'id': 'SH.DYN.MORT', 'value': 'Mortality rate, under-5 (per 1,000 live births)'}, 'country': {'id': 'MW', 'value': 'Malawi'}, 'countryiso3code': 'MWI', 'date': '2011', 'value': 77.6, 'unit': '', 'obs_status': '', 'decimal': 0}, {'indicator': {'id': 'SH.DYN.MORT', 'value': 'Mortality rate, under-5 (per 1,000 live births)'}, 'country': {'id': 'MW', 'value': 'Malawi'}, 'countryiso3code': 'MWI', 'date': '2010', 'value': 84.2, 'unit': '', 'obs_status': '', 'decimal': 0}]]\n",
            "--------Iteration End--------\n",
            "--------Iteration Start--------\n",
            "ZWE\n",
            "http://api.worldbank.org/v2/countries/ZWE/indicators/SH.DYN.MORT?date=2010:2020&format=json\n",
            "<Response [200]>\n",
            "[{'page': 1, 'pages': 1, 'per_page': 50, 'total': 11, 'sourceid': '2', 'sourcename': 'World Development Indicators', 'lastupdated': '2022-12-22'}, [{'indicator': {'id': 'SH.DYN.MORT', 'value': 'Mortality rate, under-5 (per 1,000 live births)'}, 'country': {'id': 'ZW', 'value': 'Zimbabwe'}, 'countryiso3code': 'ZWE', 'date': '2020', 'value': 53.9, 'unit': '', 'obs_status': '', 'decimal': 0}, {'indicator': {'id': 'SH.DYN.MORT', 'value': 'Mortality rate, under-5 (per 1,000 live births)'}, 'country': {'id': 'ZW', 'value': 'Zimbabwe'}, 'countryiso3code': 'ZWE', 'date': '2019', 'value': 54.2, 'unit': '', 'obs_status': '', 'decimal': 0}, {'indicator': {'id': 'SH.DYN.MORT', 'value': 'Mortality rate, under-5 (per 1,000 live births)'}, 'country': {'id': 'ZW', 'value': 'Zimbabwe'}, 'countryiso3code': 'ZWE', 'date': '2018', 'value': 54.8, 'unit': '', 'obs_status': '', 'decimal': 0}, {'indicator': {'id': 'SH.DYN.MORT', 'value': 'Mortality rate, under-5 (per 1,000 live births)'}, 'country': {'id': 'ZW', 'value': 'Zimbabwe'}, 'countryiso3code': 'ZWE', 'date': '2017', 'value': 57, 'unit': '', 'obs_status': '', 'decimal': 0}, {'indicator': {'id': 'SH.DYN.MORT', 'value': 'Mortality rate, under-5 (per 1,000 live births)'}, 'country': {'id': 'ZW', 'value': 'Zimbabwe'}, 'countryiso3code': 'ZWE', 'date': '2016', 'value': 58.7, 'unit': '', 'obs_status': '', 'decimal': 0}, {'indicator': {'id': 'SH.DYN.MORT', 'value': 'Mortality rate, under-5 (per 1,000 live births)'}, 'country': {'id': 'ZW', 'value': 'Zimbabwe'}, 'countryiso3code': 'ZWE', 'date': '2015', 'value': 61.3, 'unit': '', 'obs_status': '', 'decimal': 0}, {'indicator': {'id': 'SH.DYN.MORT', 'value': 'Mortality rate, under-5 (per 1,000 live births)'}, 'country': {'id': 'ZW', 'value': 'Zimbabwe'}, 'countryiso3code': 'ZWE', 'date': '2014', 'value': 62.7, 'unit': '', 'obs_status': '', 'decimal': 0}, {'indicator': {'id': 'SH.DYN.MORT', 'value': 'Mortality rate, under-5 (per 1,000 live births)'}, 'country': {'id': 'ZW', 'value': 'Zimbabwe'}, 'countryiso3code': 'ZWE', 'date': '2013', 'value': 66.3, 'unit': '', 'obs_status': '', 'decimal': 0}, {'indicator': {'id': 'SH.DYN.MORT', 'value': 'Mortality rate, under-5 (per 1,000 live births)'}, 'country': {'id': 'ZW', 'value': 'Zimbabwe'}, 'countryiso3code': 'ZWE', 'date': '2012', 'value': 72.2, 'unit': '', 'obs_status': '', 'decimal': 0}, {'indicator': {'id': 'SH.DYN.MORT', 'value': 'Mortality rate, under-5 (per 1,000 live births)'}, 'country': {'id': 'ZW', 'value': 'Zimbabwe'}, 'countryiso3code': 'ZWE', 'date': '2011', 'value': 80.8, 'unit': '', 'obs_status': '', 'decimal': 0}, {'indicator': {'id': 'SH.DYN.MORT', 'value': 'Mortality rate, under-5 (per 1,000 live births)'}, 'country': {'id': 'ZW', 'value': 'Zimbabwe'}, 'countryiso3code': 'ZWE', 'date': '2010', 'value': 86.4, 'unit': '', 'obs_status': '', 'decimal': 0}]]\n",
            "--------Iteration End--------\n"
          ]
        }
      ]
    }
  ]
}