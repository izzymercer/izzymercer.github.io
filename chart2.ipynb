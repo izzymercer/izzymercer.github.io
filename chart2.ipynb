{
  "nbformat": 4,
  "nbformat_minor": 0,
  "metadata": {
    "colab": {
      "provenance": [],
      "authorship_tag": "ABX9TyOJzussXbBXOvy3IiBvAjOa",
      "include_colab_link": true
    },
    "kernelspec": {
      "name": "python3",
      "display_name": "Python 3"
    },
    "language_info": {
      "name": "python"
    }
  },
  "cells": [
    {
      "cell_type": "markdown",
      "metadata": {
        "id": "view-in-github",
        "colab_type": "text"
      },
      "source": [
        "<a href=\"https://colab.research.google.com/github/izzymercer/izzymercer.github.io/blob/main/chart2.ipynb\" target=\"_parent\"><img src=\"https://colab.research.google.com/assets/colab-badge.svg\" alt=\"Open In Colab\"/></a>"
      ]
    },
    {
      "cell_type": "code",
      "source": [
        "import requests, pandas as pd"
      ],
      "metadata": {
        "id": "sqtUua7eZ5iL"
      },
      "execution_count": null,
      "outputs": []
    },
    {
      "cell_type": "code",
      "source": [
        "df=pd.read_html('https://gain-new.crc.nd.edu/ranking/readiness')"
      ],
      "metadata": {
        "id": "Jw6rof-haAWY"
      },
      "execution_count": null,
      "outputs": []
    },
    {
      "cell_type": "code",
      "source": [
        "df2 = df[0]"
      ],
      "metadata": {
        "id": "6zOkZejB21KR"
      },
      "execution_count": null,
      "outputs": []
    },
    {
      "cell_type": "code",
      "source": [
        "df3 = df2.drop(['Income group', 'Rank'], axis=1)"
      ],
      "metadata": {
        "id": "RF5V6VtNr2ym"
      },
      "execution_count": null,
      "outputs": []
    },
    {
      "cell_type": "code",
      "source": [
        "print(df3)"
      ],
      "metadata": {
        "colab": {
          "base_uri": "https://localhost:8080/"
        },
        "id": "VxxAQIqFr-5A",
        "outputId": "9295bb8c-fab0-4725-d025-cd0f4b3e9c12"
      },
      "execution_count": null,
      "outputs": [
        {
          "output_type": "stream",
          "name": "stdout",
          "text": [
            "                    Country  Score\n",
            "0                 Singapore  0.804\n",
            "1                   Denmark  0.775\n",
            "2                    Norway  0.765\n",
            "3                   Finland  0.751\n",
            "4                    Monaco  0.747\n",
            "..                      ...    ...\n",
            "187                 Eritrea  0.212\n",
            "188  Dem. Rep. of the Congo  0.208\n",
            "189                    Chad  0.192\n",
            "190               Venezuela  0.190\n",
            "191    Central African Rep.  0.136\n",
            "\n",
            "[192 rows x 2 columns]\n"
          ]
        }
      ]
    },
    {
      "cell_type": "code",
      "source": [
        "#only keep countries in Sub Sahrahn Africa - looked up the code to do this and this is what came up but dosen't seem to work\n",
        "\n",
        "countries_to_keep = ['Angola', 'Benin', 'Burundi', 'Ghana','Liberia', 'Mozambique', 'Sierra Leone', 'South Sudan', 'Togo', 'Uganda', 'Zambia',  'Senegal', 'Ethiopia', 'Lesotho', 'Mali', 'Zimbabwe', 'Namibia', 'Central African Republic', 'Eswatini', 'Gambia',  'Guinea', 'Madagascar', 'Nigeria', 'Botswana', 'Chad', 'Cabo Verde', 'Kenya', 'Mauritius', 'Malawi', 'Rwanda']\n",
        "\n",
        "mask = df3['Country'].isin(countries_to_keep)\n",
        "\n",
        "filtered_df = df3[mask]\n",
        "\n",
        "print(filtered_df)"
      ],
      "metadata": {
        "colab": {
          "base_uri": "https://localhost:8080/"
        },
        "id": "-VhRZ3NG5Vbf",
        "outputId": "28b2c535-937a-49ec-d301-7da6a17a3050"
      },
      "execution_count": null,
      "outputs": [
        {
          "output_type": "stream",
          "name": "stdout",
          "text": [
            "          Country  Score\n",
            "31      Mauritius  0.568\n",
            "85       Botswana  0.433\n",
            "89         Rwanda  0.426\n",
            "108       Namibia  0.377\n",
            "123         Ghana  0.351\n",
            "125       Senegal  0.350\n",
            "126          Togo  0.349\n",
            "132         Benin  0.337\n",
            "139        Gambia  0.329\n",
            "142        Zambia  0.321\n",
            "144  Sierra Leone  0.316\n",
            "145        Guinea  0.313\n",
            "148       Lesotho  0.311\n",
            "150      Ethiopia  0.306\n",
            "153         Kenya  0.299\n",
            "156          Mali  0.292\n",
            "159        Malawi  0.288\n",
            "160        Uganda  0.288\n",
            "167       Liberia  0.278\n",
            "171    Mozambique  0.269\n",
            "172       Burundi  0.268\n",
            "174    Madagascar  0.266\n",
            "175        Angola  0.263\n",
            "178       Nigeria  0.251\n",
            "186      Zimbabwe  0.216\n",
            "189          Chad  0.192\n"
          ]
        }
      ]
    },
    {
      "cell_type": "code",
      "source": [],
      "metadata": {
        "id": "CS0jfw63wMA_"
      },
      "execution_count": null,
      "outputs": []
    },
    {
      "cell_type": "code",
      "source": [
        "df4=pd.read_html('https://gain-new.crc.nd.edu/ranking/vulnerability')"
      ],
      "metadata": {
        "id": "eHybJ6u0slkB"
      },
      "execution_count": null,
      "outputs": []
    },
    {
      "cell_type": "code",
      "source": [
        "df5 = df4[0]"
      ],
      "metadata": {
        "id": "_g1vD2SJsx4f"
      },
      "execution_count": null,
      "outputs": []
    },
    {
      "cell_type": "code",
      "source": [
        "df6 = df5.drop(['Income group', 'Rank'], axis=1)"
      ],
      "metadata": {
        "id": "taohQsXgs53b"
      },
      "execution_count": null,
      "outputs": []
    },
    {
      "cell_type": "code",
      "source": [
        "print(df6)"
      ],
      "metadata": {
        "colab": {
          "base_uri": "https://localhost:8080/"
        },
        "id": "qTsWnM8_tCOD",
        "outputId": "7ddc43a5-5a18-40db-85a9-43fca21c0198"
      },
      "execution_count": null,
      "outputs": [
        {
          "output_type": "stream",
          "name": "stdout",
          "text": [
            "            Country  Score\n",
            "0       Switzerland  0.255\n",
            "1            Norway  0.257\n",
            "2           Austria  0.284\n",
            "3           Germany  0.293\n",
            "4    United Kingdom  0.296\n",
            "..              ...    ...\n",
            "187       Kiribati*      -\n",
            "188          Nauru*      -\n",
            "189          Palau*      -\n",
            "190        Andorra*      -\n",
            "191  Liechtenstein*      -\n",
            "\n",
            "[192 rows x 2 columns]\n"
          ]
        }
      ]
    },
    {
      "cell_type": "code",
      "source": [
        "#only keep countries in Sub Sahrahn Africa - looked up the code to do this and this is what came up but dosen't seem to work\n",
        "\n",
        "countries_to_keep = ['Angola', 'Benin', 'Burundi', 'Ghana','Liberia', 'Mozambique', 'Sierra Leone', 'South Sudan', 'Togo', 'Uganda', 'Zambia',  'Senegal', 'Ethiopia', 'Lesotho', 'Mali', 'Zimbabwe', 'Namibia', 'Central African Republic', 'Eswatini', 'Gambia',  'Guinea', 'Madagascar', 'Nigeria', 'Botswana', 'Chad', 'Cabo Verde', 'Kenya', 'Mauritius', 'Malawi', 'Rwanda']\n",
        "\n",
        "mask = df6['Country'].isin(countries_to_keep)\n",
        "\n",
        "filtered_df1 = df6[mask]\n",
        "\n",
        "print(filtered_df)"
      ],
      "metadata": {
        "colab": {
          "base_uri": "https://localhost:8080/"
        },
        "outputId": "e4d2b883-dac8-445e-9f91-d9e4d1d3c915",
        "id": "UoKE9fVJtFEe"
      },
      "execution_count": null,
      "outputs": [
        {
          "output_type": "stream",
          "name": "stdout",
          "text": [
            "          Country  Score\n",
            "89      Mauritius  0.429\n",
            "115      Botswana  0.466\n",
            "118         Ghana  0.471\n",
            "120       Namibia  0.474\n",
            "126       Lesotho  0.484\n",
            "128       Nigeria  0.500\n",
            "130        Angola  0.505\n",
            "134    Mozambique  0.517\n",
            "139          Togo  0.521\n",
            "140        Zambia  0.521\n",
            "142         Kenya  0.525\n",
            "150        Guinea  0.532\n",
            "151       Senegal  0.532\n",
            "154        Gambia  0.545\n",
            "156        Malawi  0.548\n",
            "158      Zimbabwe  0.554\n",
            "159       Burundi  0.558\n",
            "161    Madagascar  0.561\n",
            "162      Ethiopia  0.563\n",
            "163  Sierra Leone  0.563\n",
            "166         Benin  0.572\n",
            "169        Uganda  0.580\n",
            "172        Rwanda  0.586\n",
            "175          Mali  0.598\n",
            "176       Liberia  0.603\n",
            "179          Chad  0.658\n"
          ]
        }
      ]
    },
    {
      "cell_type": "code",
      "source": [],
      "metadata": {
        "id": "VSg9qFxOvfVq"
      },
      "execution_count": null,
      "outputs": []
    },
    {
      "cell_type": "code",
      "source": [],
      "metadata": {
        "id": "bujTJngCv1jX"
      },
      "execution_count": null,
      "outputs": []
    }
  ]
}