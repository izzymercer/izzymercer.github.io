{
  "nbformat": 4,
  "nbformat_minor": 0,
  "metadata": {
    "colab": {
      "provenance": [],
      "authorship_tag": "ABX9TyOGSJWhKM0/JFLUMgNYJbXR",
      "include_colab_link": true
    },
    "kernelspec": {
      "name": "python3",
      "display_name": "Python 3"
    },
    "language_info": {
      "name": "python"
    }
  },
  "cells": [
    {
      "cell_type": "markdown",
      "metadata": {
        "id": "view-in-github",
        "colab_type": "text"
      },
      "source": [
        "<a href=\"https://colab.research.google.com/github/izzymercer/izzymercer.github.io/blob/main/Copy_of_project_chart1.ipynb\" target=\"_parent\"><img src=\"https://colab.research.google.com/assets/colab-badge.svg\" alt=\"Open In Colab\"/></a>"
      ]
    },
    {
      "cell_type": "code",
      "execution_count": null,
      "metadata": {
        "id": "GyO0DNi9EkW_"
      },
      "outputs": [],
      "source": [
        "import pandas as pd\n",
        "\n",
        "# Load the dataset into a pandas dataframe\n",
        "df = pd.read_csv('chart1_data.csv')\n",
        "\n"
      ]
    },
    {
      "cell_type": "code",
      "source": [
        "print(df)"
      ],
      "metadata": {
        "colab": {
          "base_uri": "https://localhost:8080/"
        },
        "id": "6Q0m-gqaFKYu",
        "outputId": "889a1829-a90d-49b0-d8ab-40ed6f9624ad"
      },
      "execution_count": null,
      "outputs": [
        {
          "output_type": "stream",
          "name": "stdout",
          "text": [
            "       Country                    Item  Year      Value Flag Description\n",
            "0       Angola                 Bananas  2018  3954036.0  Official figure\n",
            "1       Angola              Beans, dry  2018   326393.0    Imputed value\n",
            "2       Angola                Cabbages  2018   338625.0  Estimated value\n",
            "3       Angola   Cashew nuts, in shell  2018     2034.0  Estimated value\n",
            "4       Angola          Cassava, fresh  2018  8730517.0  Official figure\n",
            "...        ...                     ...   ...        ...              ...\n",
            "1959  Zimbabwe              Tea leaves  2018     3478.0  Estimated value\n",
            "1960  Zimbabwe                Tomatoes  2018    25204.0  Estimated value\n",
            "1961  Zimbabwe  Unmanufactured tobacco  2018   239906.0  Official figure\n",
            "1962  Zimbabwe            Vanilla, raw  2018       10.0    Imputed value\n",
            "1963  Zimbabwe                   Wheat  2018    45000.0  Estimated value\n",
            "\n",
            "[1964 rows x 5 columns]\n"
          ]
        }
      ]
    },
    {
      "cell_type": "code",
      "source": [
        "df2 = df.drop(['Year', 'Flag Description'], axis=1)"
      ],
      "metadata": {
        "id": "6peU1kiAI_D2"
      },
      "execution_count": null,
      "outputs": []
    },
    {
      "cell_type": "code",
      "source": [
        "print(df2)"
      ],
      "metadata": {
        "colab": {
          "base_uri": "https://localhost:8080/"
        },
        "id": "vqBb_LxKFlFk",
        "outputId": "2ef0d4fa-31cc-4030-ee2b-3f81b72509a1"
      },
      "execution_count": null,
      "outputs": [
        {
          "output_type": "stream",
          "name": "stdout",
          "text": [
            "       Country                    Item      Value\n",
            "0       Angola                 Bananas  3954036.0\n",
            "1       Angola              Beans, dry   326393.0\n",
            "2       Angola                Cabbages   338625.0\n",
            "3       Angola   Cashew nuts, in shell     2034.0\n",
            "4       Angola          Cassava, fresh  8730517.0\n",
            "...        ...                     ...        ...\n",
            "1959  Zimbabwe              Tea leaves     3478.0\n",
            "1960  Zimbabwe                Tomatoes    25204.0\n",
            "1961  Zimbabwe  Unmanufactured tobacco   239906.0\n",
            "1962  Zimbabwe            Vanilla, raw       10.0\n",
            "1963  Zimbabwe                   Wheat    45000.0\n",
            "\n",
            "[1964 rows x 3 columns]\n"
          ]
        }
      ]
    },
    {
      "cell_type": "code",
      "source": [
        "threshold = 1000000\n",
        "selected_rows = df2['Value'] > threshold"
      ],
      "metadata": {
        "id": "dCiVNxybFzGl"
      },
      "execution_count": null,
      "outputs": []
    },
    {
      "cell_type": "code",
      "source": [
        "df3 = df2[selected_rows]"
      ],
      "metadata": {
        "id": "ApbM1CkdN-rF"
      },
      "execution_count": null,
      "outputs": []
    },
    {
      "cell_type": "code",
      "source": [
        "df3"
      ],
      "metadata": {
        "colab": {
          "base_uri": "https://localhost:8080/",
          "height": 423
        },
        "id": "_zk204AzOFC4",
        "outputId": "889a681d-1b8b-49f2-93f0-722cf3ddb543"
      },
      "execution_count": null,
      "outputs": [
        {
          "output_type": "execute_result",
          "data": {
            "text/plain": [
              "       Country            Item      Value\n",
              "0       Angola         Bananas  3954036.0\n",
              "4       Angola  Cassava, fresh  8730517.0\n",
              "11      Angola    Maize (corn)  2765316.0\n",
              "29      Angola  Sweet potatoes  1688122.0\n",
              "36       Benin  Cassava, fresh  3819804.0\n",
              "...        ...             ...        ...\n",
              "1851    Zambia  Cassava, fresh  4102300.0\n",
              "1859    Zambia    Maize (corn)  2394907.0\n",
              "1880    Zambia      Sugar cane  4630000.0\n",
              "1921  Zimbabwe    Maize (corn)  1560100.0\n",
              "1955  Zimbabwe      Sugar cane  3582994.0\n",
              "\n",
              "[145 rows x 3 columns]"
            ],
            "text/html": [
              "\n",
              "  <div id=\"df-ba2e5318-dc02-4765-9437-5f538c2e08e6\">\n",
              "    <div class=\"colab-df-container\">\n",
              "      <div>\n",
              "<style scoped>\n",
              "    .dataframe tbody tr th:only-of-type {\n",
              "        vertical-align: middle;\n",
              "    }\n",
              "\n",
              "    .dataframe tbody tr th {\n",
              "        vertical-align: top;\n",
              "    }\n",
              "\n",
              "    .dataframe thead th {\n",
              "        text-align: right;\n",
              "    }\n",
              "</style>\n",
              "<table border=\"1\" class=\"dataframe\">\n",
              "  <thead>\n",
              "    <tr style=\"text-align: right;\">\n",
              "      <th></th>\n",
              "      <th>Country</th>\n",
              "      <th>Item</th>\n",
              "      <th>Value</th>\n",
              "    </tr>\n",
              "  </thead>\n",
              "  <tbody>\n",
              "    <tr>\n",
              "      <th>0</th>\n",
              "      <td>Angola</td>\n",
              "      <td>Bananas</td>\n",
              "      <td>3954036.0</td>\n",
              "    </tr>\n",
              "    <tr>\n",
              "      <th>4</th>\n",
              "      <td>Angola</td>\n",
              "      <td>Cassava, fresh</td>\n",
              "      <td>8730517.0</td>\n",
              "    </tr>\n",
              "    <tr>\n",
              "      <th>11</th>\n",
              "      <td>Angola</td>\n",
              "      <td>Maize (corn)</td>\n",
              "      <td>2765316.0</td>\n",
              "    </tr>\n",
              "    <tr>\n",
              "      <th>29</th>\n",
              "      <td>Angola</td>\n",
              "      <td>Sweet potatoes</td>\n",
              "      <td>1688122.0</td>\n",
              "    </tr>\n",
              "    <tr>\n",
              "      <th>36</th>\n",
              "      <td>Benin</td>\n",
              "      <td>Cassava, fresh</td>\n",
              "      <td>3819804.0</td>\n",
              "    </tr>\n",
              "    <tr>\n",
              "      <th>...</th>\n",
              "      <td>...</td>\n",
              "      <td>...</td>\n",
              "      <td>...</td>\n",
              "    </tr>\n",
              "    <tr>\n",
              "      <th>1851</th>\n",
              "      <td>Zambia</td>\n",
              "      <td>Cassava, fresh</td>\n",
              "      <td>4102300.0</td>\n",
              "    </tr>\n",
              "    <tr>\n",
              "      <th>1859</th>\n",
              "      <td>Zambia</td>\n",
              "      <td>Maize (corn)</td>\n",
              "      <td>2394907.0</td>\n",
              "    </tr>\n",
              "    <tr>\n",
              "      <th>1880</th>\n",
              "      <td>Zambia</td>\n",
              "      <td>Sugar cane</td>\n",
              "      <td>4630000.0</td>\n",
              "    </tr>\n",
              "    <tr>\n",
              "      <th>1921</th>\n",
              "      <td>Zimbabwe</td>\n",
              "      <td>Maize (corn)</td>\n",
              "      <td>1560100.0</td>\n",
              "    </tr>\n",
              "    <tr>\n",
              "      <th>1955</th>\n",
              "      <td>Zimbabwe</td>\n",
              "      <td>Sugar cane</td>\n",
              "      <td>3582994.0</td>\n",
              "    </tr>\n",
              "  </tbody>\n",
              "</table>\n",
              "<p>145 rows × 3 columns</p>\n",
              "</div>\n",
              "      <button class=\"colab-df-convert\" onclick=\"convertToInteractive('df-ba2e5318-dc02-4765-9437-5f538c2e08e6')\"\n",
              "              title=\"Convert this dataframe to an interactive table.\"\n",
              "              style=\"display:none;\">\n",
              "        \n",
              "  <svg xmlns=\"http://www.w3.org/2000/svg\" height=\"24px\"viewBox=\"0 0 24 24\"\n",
              "       width=\"24px\">\n",
              "    <path d=\"M0 0h24v24H0V0z\" fill=\"none\"/>\n",
              "    <path d=\"M18.56 5.44l.94 2.06.94-2.06 2.06-.94-2.06-.94-.94-2.06-.94 2.06-2.06.94zm-11 1L8.5 8.5l.94-2.06 2.06-.94-2.06-.94L8.5 2.5l-.94 2.06-2.06.94zm10 10l.94 2.06.94-2.06 2.06-.94-2.06-.94-.94-2.06-.94 2.06-2.06.94z\"/><path d=\"M17.41 7.96l-1.37-1.37c-.4-.4-.92-.59-1.43-.59-.52 0-1.04.2-1.43.59L10.3 9.45l-7.72 7.72c-.78.78-.78 2.05 0 2.83L4 21.41c.39.39.9.59 1.41.59.51 0 1.02-.2 1.41-.59l7.78-7.78 2.81-2.81c.8-.78.8-2.07 0-2.86zM5.41 20L4 18.59l7.72-7.72 1.47 1.35L5.41 20z\"/>\n",
              "  </svg>\n",
              "      </button>\n",
              "      \n",
              "  <style>\n",
              "    .colab-df-container {\n",
              "      display:flex;\n",
              "      flex-wrap:wrap;\n",
              "      gap: 12px;\n",
              "    }\n",
              "\n",
              "    .colab-df-convert {\n",
              "      background-color: #E8F0FE;\n",
              "      border: none;\n",
              "      border-radius: 50%;\n",
              "      cursor: pointer;\n",
              "      display: none;\n",
              "      fill: #1967D2;\n",
              "      height: 32px;\n",
              "      padding: 0 0 0 0;\n",
              "      width: 32px;\n",
              "    }\n",
              "\n",
              "    .colab-df-convert:hover {\n",
              "      background-color: #E2EBFA;\n",
              "      box-shadow: 0px 1px 2px rgba(60, 64, 67, 0.3), 0px 1px 3px 1px rgba(60, 64, 67, 0.15);\n",
              "      fill: #174EA6;\n",
              "    }\n",
              "\n",
              "    [theme=dark] .colab-df-convert {\n",
              "      background-color: #3B4455;\n",
              "      fill: #D2E3FC;\n",
              "    }\n",
              "\n",
              "    [theme=dark] .colab-df-convert:hover {\n",
              "      background-color: #434B5C;\n",
              "      box-shadow: 0px 1px 3px 1px rgba(0, 0, 0, 0.15);\n",
              "      filter: drop-shadow(0px 1px 2px rgba(0, 0, 0, 0.3));\n",
              "      fill: #FFFFFF;\n",
              "    }\n",
              "  </style>\n",
              "\n",
              "      <script>\n",
              "        const buttonEl =\n",
              "          document.querySelector('#df-ba2e5318-dc02-4765-9437-5f538c2e08e6 button.colab-df-convert');\n",
              "        buttonEl.style.display =\n",
              "          google.colab.kernel.accessAllowed ? 'block' : 'none';\n",
              "\n",
              "        async function convertToInteractive(key) {\n",
              "          const element = document.querySelector('#df-ba2e5318-dc02-4765-9437-5f538c2e08e6');\n",
              "          const dataTable =\n",
              "            await google.colab.kernel.invokeFunction('convertToInteractive',\n",
              "                                                     [key], {});\n",
              "          if (!dataTable) return;\n",
              "\n",
              "          const docLinkHtml = 'Like what you see? Visit the ' +\n",
              "            '<a target=\"_blank\" href=https://colab.research.google.com/notebooks/data_table.ipynb>data table notebook</a>'\n",
              "            + ' to learn more about interactive tables.';\n",
              "          element.innerHTML = '';\n",
              "          dataTable['output_type'] = 'display_data';\n",
              "          await google.colab.output.renderOutput(dataTable, element);\n",
              "          const docLink = document.createElement('div');\n",
              "          docLink.innerHTML = docLinkHtml;\n",
              "          element.appendChild(docLink);\n",
              "        }\n",
              "      </script>\n",
              "    </div>\n",
              "  </div>\n",
              "  "
            ]
          },
          "metadata": {},
          "execution_count": 22
        }
      ]
    },
    {
      "cell_type": "code",
      "source": [
        "df3['Value_divided'] = df3['Value'] / 100000"
      ],
      "metadata": {
        "colab": {
          "base_uri": "https://localhost:8080/"
        },
        "id": "OAl8bYKyONtJ",
        "outputId": "c8e19da7-8f0e-4171-b979-cfec9bd0133f"
      },
      "execution_count": null,
      "outputs": [
        {
          "output_type": "stream",
          "name": "stderr",
          "text": [
            "<ipython-input-24-536e57894521>:1: SettingWithCopyWarning: \n",
            "A value is trying to be set on a copy of a slice from a DataFrame.\n",
            "Try using .loc[row_indexer,col_indexer] = value instead\n",
            "\n",
            "See the caveats in the documentation: https://pandas.pydata.org/pandas-docs/stable/user_guide/indexing.html#returning-a-view-versus-a-copy\n",
            "  df3['Value_divided'] = df3['Value'] / 100000\n"
          ]
        }
      ]
    },
    {
      "cell_type": "code",
      "source": [
        "print(df3)"
      ],
      "metadata": {
        "colab": {
          "base_uri": "https://localhost:8080/"
        },
        "id": "MiYwkVwbOlmD",
        "outputId": "695eaa64-1c6b-459b-d8f4-2e14c2d713a4"
      },
      "execution_count": null,
      "outputs": [
        {
          "output_type": "stream",
          "name": "stdout",
          "text": [
            "       Country            Item      Value  Value_divided\n",
            "0       Angola         Bananas  3954036.0       39.54036\n",
            "4       Angola  Cassava, fresh  8730517.0       87.30517\n",
            "11      Angola    Maize (corn)  2765316.0       27.65316\n",
            "29      Angola  Sweet potatoes  1688122.0       16.88122\n",
            "36       Benin  Cassava, fresh  3819804.0       38.19804\n",
            "...        ...             ...        ...            ...\n",
            "1851    Zambia  Cassava, fresh  4102300.0       41.02300\n",
            "1859    Zambia    Maize (corn)  2394907.0       23.94907\n",
            "1880    Zambia      Sugar cane  4630000.0       46.30000\n",
            "1921  Zimbabwe    Maize (corn)  1560100.0       15.60100\n",
            "1955  Zimbabwe      Sugar cane  3582994.0       35.82994\n",
            "\n",
            "[145 rows x 4 columns]\n"
          ]
        }
      ]
    },
    {
      "cell_type": "code",
      "source": [
        "df4 = df3.drop(['Value'], axis=1)"
      ],
      "metadata": {
        "id": "hGQ4YiKJOp6T"
      },
      "execution_count": null,
      "outputs": []
    },
    {
      "cell_type": "code",
      "source": [
        "# Get a list of the items that appear more than 6 times \n",
        "items_to_keep = df4['Item'].value_counts()[df4['Item'].value_counts() > 6].index.tolist()\n",
        "\n",
        "\n",
        "filtered_df = df4.loc[df4['Item'].isin(items_to_keep)]\n",
        "\n"
      ],
      "metadata": {
        "id": "Hvv65yDHR_LP"
      },
      "execution_count": null,
      "outputs": []
    },
    {
      "cell_type": "code",
      "source": [
        "print(filtered_df)"
      ],
      "metadata": {
        "colab": {
          "base_uri": "https://localhost:8080/"
        },
        "id": "vHZ_vPH4VBC2",
        "outputId": "82c55639-c1fa-4986-e616-297cd553d2de"
      },
      "execution_count": null,
      "outputs": [
        {
          "output_type": "stream",
          "name": "stdout",
          "text": [
            "       Country            Item  Value_divided\n",
            "4       Angola  Cassava, fresh       87.30517\n",
            "11      Angola    Maize (corn)       27.65316\n",
            "29      Angola  Sweet potatoes       16.88122\n",
            "36       Benin  Cassava, fresh       38.19804\n",
            "48       Benin    Maize (corn)       15.09758\n",
            "...        ...             ...            ...\n",
            "1851    Zambia  Cassava, fresh       41.02300\n",
            "1859    Zambia    Maize (corn)       23.94907\n",
            "1880    Zambia      Sugar cane       46.30000\n",
            "1921  Zimbabwe    Maize (corn)       15.60100\n",
            "1955  Zimbabwe      Sugar cane       35.82994\n",
            "\n",
            "[71 rows x 3 columns]\n"
          ]
        }
      ]
    },
    {
      "cell_type": "code",
      "source": [
        "filtered_df.to_csv('chart1_data_edited.csv', index=False)"
      ],
      "metadata": {
        "id": "wYHxrroYUTeK"
      },
      "execution_count": null,
      "outputs": []
    },
    {
      "cell_type": "code",
      "source": [
        "# Get a list of the unique items in the \"Item\" column\n",
        "items = filtered_df['Item'].unique()\n",
        "\n",
        "# Print the list of items\n",
        "print(items)\n"
      ],
      "metadata": {
        "colab": {
          "base_uri": "https://localhost:8080/"
        },
        "id": "YK84ZSiVV0AE",
        "outputId": "7be717ca-10c0-45bf-96e1-e8122ea5ad43"
      },
      "execution_count": null,
      "outputs": [
        {
          "output_type": "stream",
          "name": "stdout",
          "text": [
            "['Cassava, fresh' 'Maize (corn)' 'Sweet potatoes' 'Sugar cane' 'Rice']\n"
          ]
        }
      ]
    },
    {
      "cell_type": "code",
      "source": [
        "# Get a list of the unique items in the \"Item\" column\n",
        "items = filtered_df['Country'].unique()\n",
        "# Print the list of items\n",
        "print(items)"
      ],
      "metadata": {
        "colab": {
          "base_uri": "https://localhost:8080/"
        },
        "id": "MXWZxVz8W2jx",
        "outputId": "6487502d-ae3e-422e-f831-43529968875e"
      },
      "execution_count": null,
      "outputs": [
        {
          "output_type": "stream",
          "name": "stdout",
          "text": [
            "['Angola' 'Benin' 'Burkina Faso' 'Burundi' 'Cameroon' 'Congo'\n",
            " \"Côte d'Ivoire\" 'Democratic Republic of the Congo' 'Eswatini' 'Ethiopia'\n",
            " 'Ghana' 'Guinea' 'Kenya' 'Madagascar' 'Malawi' 'Mali' 'Mauritius'\n",
            " 'Mozambique' 'Nigeria' 'Rwanda' 'Senegal' 'Sierra Leone' 'South Africa'\n",
            " 'Togo' 'Uganda' 'United Republic of Tanzania' 'Zambia' 'Zimbabwe']\n"
          ]
        }
      ]
    },
    {
      "cell_type": "code",
      "source": [
        "print(filtered_df)"
      ],
      "metadata": {
        "colab": {
          "base_uri": "https://localhost:8080/"
        },
        "id": "Kx0XlcSQXcCV",
        "outputId": "4acd82be-a042-4333-d926-698185d7583c"
      },
      "execution_count": null,
      "outputs": [
        {
          "output_type": "stream",
          "name": "stdout",
          "text": [
            "       Country            Item  Value_divided\n",
            "4       Angola  Cassava, fresh       87.30517\n",
            "11      Angola    Maize (corn)       27.65316\n",
            "29      Angola  Sweet potatoes       16.88122\n",
            "36       Benin  Cassava, fresh       38.19804\n",
            "48       Benin    Maize (corn)       15.09758\n",
            "...        ...             ...            ...\n",
            "1851    Zambia  Cassava, fresh       41.02300\n",
            "1859    Zambia    Maize (corn)       23.94907\n",
            "1880    Zambia      Sugar cane       46.30000\n",
            "1921  Zimbabwe    Maize (corn)       15.60100\n",
            "1955  Zimbabwe      Sugar cane       35.82994\n",
            "\n",
            "[71 rows x 3 columns]\n"
          ]
        }
      ]
    }
  ]
}